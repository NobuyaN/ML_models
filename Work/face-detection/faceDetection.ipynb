{
 "cells": [
  {
   "cell_type": "code",
   "execution_count": 2,
   "metadata": {},
   "outputs": [],
   "source": [
    "import os\n",
    "import time\n",
    "import uuid #uniform unique identifier\n",
    "import cv2\n",
    "import matplotlib.pyplot as plt\n",
    "import tensorflow as tf"
   ]
  },
  {
   "cell_type": "code",
   "execution_count": 3,
   "metadata": {},
   "outputs": [],
   "source": [
    "IMAGE_PATH = os.path.join('data', 'images')\n",
    "number_images = 30"
   ]
  },
  {
   "cell_type": "code",
   "execution_count": 4,
   "metadata": {},
   "outputs": [
    {
     "name": "stdout",
     "output_type": "stream",
     "text": [
      "COllecting image 0\n"
     ]
    },
    {
     "ename": "error",
     "evalue": "OpenCV(4.8.1) D:\\a\\opencv-python\\opencv-python\\opencv\\modules\\imgcodecs\\src\\loadsave.cpp:787: error: (-215:Assertion failed) !_img.empty() in function 'cv::imwrite'\n",
     "output_type": "error",
     "traceback": [
      "\u001b[1;31m---------------------------------------------------------------------------\u001b[0m",
      "\u001b[1;31merror\u001b[0m                                     Traceback (most recent call last)",
      "\u001b[1;32md:\\githubrepo\\ML_models\\Work\\face-detection\\faceDetection.ipynb Cell 3\u001b[0m line \u001b[0;36m6\n\u001b[0;32m      <a href='vscode-notebook-cell:/d%3A/githubrepo/ML_models/Work/face-detection/faceDetection.ipynb#W2sZmlsZQ%3D%3D?line=3'>4</a>\u001b[0m ret, frame \u001b[39m=\u001b[39m cap\u001b[39m.\u001b[39mread() \u001b[39m# return value to see if we captured, and the frame itself\u001b[39;00m\n\u001b[0;32m      <a href='vscode-notebook-cell:/d%3A/githubrepo/ML_models/Work/face-detection/faceDetection.ipynb#W2sZmlsZQ%3D%3D?line=4'>5</a>\u001b[0m imgname \u001b[39m=\u001b[39m os\u001b[39m.\u001b[39mpath\u001b[39m.\u001b[39mjoin(IMAGE_PATH, \u001b[39mf\u001b[39m\u001b[39m\"\u001b[39m\u001b[39m{\u001b[39;00m\u001b[39mstr\u001b[39m(uuid\u001b[39m.\u001b[39muuid1())\u001b[39m}\u001b[39;00m\u001b[39m.jpg\u001b[39m\u001b[39m\"\u001b[39m) \u001b[39m#Would generate different ID for images every iteration\u001b[39;00m\n\u001b[1;32m----> <a href='vscode-notebook-cell:/d%3A/githubrepo/ML_models/Work/face-detection/faceDetection.ipynb#W2sZmlsZQ%3D%3D?line=5'>6</a>\u001b[0m cv2\u001b[39m.\u001b[39;49mimwrite(imgname, frame)\n\u001b[0;32m      <a href='vscode-notebook-cell:/d%3A/githubrepo/ML_models/Work/face-detection/faceDetection.ipynb#W2sZmlsZQ%3D%3D?line=6'>7</a>\u001b[0m cv2\u001b[39m.\u001b[39mimshow(\u001b[39m'\u001b[39m\u001b[39mframe\u001b[39m\u001b[39m'\u001b[39m, frame)\n\u001b[0;32m      <a href='vscode-notebook-cell:/d%3A/githubrepo/ML_models/Work/face-detection/faceDetection.ipynb#W2sZmlsZQ%3D%3D?line=7'>8</a>\u001b[0m time\u001b[39m.\u001b[39msleep(\u001b[39m0.5\u001b[39m)\n",
      "\u001b[1;31merror\u001b[0m: OpenCV(4.8.1) D:\\a\\opencv-python\\opencv-python\\opencv\\modules\\imgcodecs\\src\\loadsave.cpp:787: error: (-215:Assertion failed) !_img.empty() in function 'cv::imwrite'\n"
     ]
    }
   ],
   "source": [
    "cap = cv2.VideoCapture(1) #Camera Number\n",
    "for imgnum in range(number_images):\n",
    "  print(f\"COllecting image {imgnum}\")\n",
    "  ret, frame = cap.read() # return value to see if we captured, and the frame itself\n",
    "  imgname = os.path.join(IMAGE_PATH, f\"{str(uuid.uuid1())}.jpg\") #Would generate different ID for images every iteration\n",
    "  cv2.imwrite(imgname, frame)\n",
    "  cv2.imshow('frame', frame)\n",
    "  time.sleep(0.5)\n",
    "\n",
    "  if cv2.waitKey(1) & 0xFF == ord('q'):\n",
    "    break\n",
    "cap.release()\n",
    "cv2.destroyAllWindows()"
   ]
  },
  {
   "cell_type": "code",
   "execution_count": null,
   "metadata": {},
   "outputs": [],
   "source": [
    " "
   ]
  }
 ],
 "metadata": {
  "kernelspec": {
   "display_name": "Python 3",
   "language": "python",
   "name": "python3"
  },
  "language_info": {
   "codemirror_mode": {
    "name": "ipython",
    "version": 3
   },
   "file_extension": ".py",
   "mimetype": "text/x-python",
   "name": "python",
   "nbconvert_exporter": "python",
   "pygments_lexer": "ipython3",
   "version": "3.11.5"
  }
 },
 "nbformat": 4,
 "nbformat_minor": 2
}
