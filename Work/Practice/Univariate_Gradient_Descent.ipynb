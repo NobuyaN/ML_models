{
 "cells": [
  {
   "cell_type": "code",
   "execution_count": 2,
   "metadata": {},
   "outputs": [],
   "source": [
    "import matplotlib.pyplot as plt\n",
    "import numpy as np\n",
    "import copy, math"
   ]
  },
  {
   "cell_type": "code",
   "execution_count": 3,
   "metadata": {},
   "outputs": [],
   "source": [
    "X_train = np.array([1.0, 2.0, 3.0])\n",
    "y_train = np.array([300.0, 500.0, 700.0])"
   ]
  },
  {
   "cell_type": "code",
   "execution_count": 4,
   "metadata": {},
   "outputs": [],
   "source": [
    "def compute_cost(x, y, w, b):\n",
    "  m = x.shape[0]\n",
    "  total_cost = 0\n",
    "\n",
    "  for i in range(m):\n",
    "    f_wb = w * x[i] + b\n",
    "    total_cost = total_cost + (f_wb - y[i])**2\n",
    "\n",
    "  return (1 / (2 * m)) * total_cost"
   ]
  },
  {
   "cell_type": "code",
   "execution_count": 5,
   "metadata": {},
   "outputs": [],
   "source": [
    "def compute_gradient(x, y, w, b):\n",
    "  m = x.shape[0]\n",
    "  dj_dw = 0\n",
    "  dj_db = 0\n",
    "\n",
    "  for i in range(m):\n",
    "    f_wb = w * x[i] + b\n",
    "    dj_dw = dj_dw + (f_wb - y[i]) * x[i]\n",
    "    dj_db = dj_db + (f_wb - y[i])\n",
    "  dj_dw = dj_dw / m\n",
    "  dj_db = dj_db / m\n",
    "\n",
    "  return dj_dw, dj_db"
   ]
  },
  {
   "cell_type": "code",
   "execution_count": 6,
   "metadata": {},
   "outputs": [],
   "source": [
    "def gradient_descent(x, y, w_initial, b_initial, alpha, num_iterations, cost_function, gradient_function):\n",
    "  w = copy.deepcopy(w_initial)\n",
    "  b = b_initial\n",
    "  w = w_initial\n",
    "  costs_history = []\n",
    "  parameters_history = []\n",
    "\n",
    "  for i in range(num_iterations):\n",
    "    dj_dw, dj_db = gradient_function(x, y, w, b)\n",
    "    w = w - alpha * dj_dw\n",
    "    b = b - alpha * dj_db\n",
    "\n",
    "    if num_iterations < 100000:\n",
    "      costs_history.append(cost_function(x, y, w, b))\n",
    "      parameters_history.append([w, b])\n",
    "    \n",
    "    if i % math.ceil(num_iterations / 10) == 0:\n",
    "      print(f\"Iteration {i:4}: Cost {costs_history[-1]:0.2e}\",\n",
    "            f\"dj_dw: {dj_dw:0.3e}, dj_db: {dj_db:0.3e}\",\n",
    "            f\"w: {w:0.3e}, b: {b:0.3e}\")\n",
    "\n",
    "  return w, b, costs_history, parameters_history\n"
   ]
  },
  {
   "cell_type": "code",
   "execution_count": 7,
   "metadata": {},
   "outputs": [
    {
     "name": "stdout",
     "output_type": "stream",
     "text": [
      "Iteration    0: Cost 2.74e+04 dj_dw: -1.133e+03, dj_db: -5.000e+02 w: 1.133e+02, b: 5.000e+01\n",
      "Iteration 1000: Cost 2.23e-10 dj_dw: 2.983e-06, dj_db: -6.780e-06 w: 2.000e+02, b: 1.000e+02\n",
      "Iteration 2000: Cost 6.99e-21 dj_dw: 1.664e-11, dj_db: -3.801e-11 w: 2.000e+02, b: 1.000e+02\n",
      "Iteration 3000: Cost 2.85e-26 dj_dw: 7.579e-14, dj_db: -5.684e-14 w: 2.000e+02, b: 1.000e+02\n",
      "Iteration 4000: Cost 2.85e-26 dj_dw: 7.579e-14, dj_db: -5.684e-14 w: 2.000e+02, b: 1.000e+02\n",
      "Iteration 5000: Cost 2.85e-26 dj_dw: 7.579e-14, dj_db: -5.684e-14 w: 2.000e+02, b: 1.000e+02\n",
      "Iteration 6000: Cost 2.85e-26 dj_dw: 7.579e-14, dj_db: -5.684e-14 w: 2.000e+02, b: 1.000e+02\n",
      "Iteration 7000: Cost 2.85e-26 dj_dw: 7.579e-14, dj_db: -5.684e-14 w: 2.000e+02, b: 1.000e+02\n",
      "Iteration 8000: Cost 2.85e-26 dj_dw: 7.579e-14, dj_db: -5.684e-14 w: 2.000e+02, b: 1.000e+02\n",
      "Iteration 9000: Cost 2.85e-26 dj_dw: 7.579e-14, dj_db: -5.684e-14 w: 2.000e+02, b: 1.000e+02\n",
      "(w,b) found by gradient descent: (200.0000, 100.0000)\n"
     ]
    }
   ],
   "source": [
    "w_initial = 0\n",
    "b_initial = 0\n",
    "\n",
    "iterations = 10000\n",
    "alpha = 0.1\n",
    "\n",
    "w_final, b_final, costs_history, parameters_history = gradient_descent(X_train, y_train, w_initial, b_initial, \n",
    "                                                                       alpha, iterations, compute_cost, compute_gradient)\n",
    "\n",
    "print(f\"(w,b) found by gradient descent: ({w_final:0.4f}, {b_final:0.4f})\")"
   ]
  },
  {
   "cell_type": "code",
   "execution_count": 8,
   "metadata": {},
   "outputs": [
    {
     "name": "stdout",
     "output_type": "stream",
     "text": [
      "With a size of 2000 sqft, it is predicted to be 500000 dollars\n"
     ]
    }
   ],
   "source": [
    "x_pred = 2\n",
    "y_pred = w_final * x_pred + b_final\n",
    "print(f\"With a size of {x_pred * 1000} sqft, it is predicted to be {y_pred * 1000:0.0f} dollars\")"
   ]
  }
 ],
 "metadata": {
  "kernelspec": {
   "display_name": "Python 3",
   "language": "python",
   "name": "python3"
  },
  "language_info": {
   "codemirror_mode": {
    "name": "ipython",
    "version": 3
   },
   "file_extension": ".py",
   "mimetype": "text/x-python",
   "name": "python",
   "nbconvert_exporter": "python",
   "pygments_lexer": "ipython3",
   "version": "3.11.5"
  },
  "orig_nbformat": 4
 },
 "nbformat": 4,
 "nbformat_minor": 2
}
