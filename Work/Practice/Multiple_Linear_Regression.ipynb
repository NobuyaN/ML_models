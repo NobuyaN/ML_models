{
 "cells": [
  {
   "cell_type": "code",
   "execution_count": 1,
   "metadata": {},
   "outputs": [],
   "source": [
    "import matplotlib.pyplot as plt\n",
    "import numpy as np\n",
    "import math, copy"
   ]
  },
  {
   "cell_type": "code",
   "execution_count": 2,
   "metadata": {},
   "outputs": [],
   "source": [
    "X_train = np.array([[2104, 5, 1, 45], [1416, 3, 2, 40], [852, 2, 1, 35]])\n",
    "y_train = np.array([460, 232, 178])"
   ]
  },
  {
   "cell_type": "code",
   "execution_count": 3,
   "metadata": {},
   "outputs": [],
   "source": [
    "def compute_cost(x, y, w, b):\n",
    "  m = x.shape[0]\n",
    "  cost = 0\n",
    "\n",
    "  for i in range(m):\n",
    "    f_wb = np.dot(w, x) + b\n",
    "    cost = cost + (f_wb - y[i])**2\n",
    "  return (1 / (2 * m) * cost)"
   ]
  },
  {
   "cell_type": "code",
   "execution_count": 4,
   "metadata": {},
   "outputs": [],
   "source": [
    "def compute_gradient(x, y, w, b):\n",
    "  m,n = x.shape\n",
    "  dj_dw = np.zeros((n,))\n",
    "  dj_db = 0.0\n",
    "\n",
    "  for i in range(m):\n",
    "    f_wb_i = np.dot(x[i], w) + b\n",
    "    err_i = f_wb_i - y[i]\n",
    "    for j in range(n):\n",
    "      dj_dw[j] += err_i * x[i,j]\n",
    "    dj_db += err_i\n",
    "\n",
    "  dj_dw = dj_dw/m\n",
    "  dj_db = dj_db/m\n",
    "\n",
    "  return dj_dw, dj_db"
   ]
  },
  {
   "cell_type": "code",
   "execution_count": 5,
   "metadata": {},
   "outputs": [],
   "source": [
    "def gradient_descent(x, y, w_initial, b_initial, alpha, num_iter, cost_function, gradient_function):\n",
    "  w = copy.deepcopy(w_initial)\n",
    "  m = w_initial.shape[0]\n",
    "  b = b_initial\n",
    "  costs_history = []\n",
    "  parameters_history = []\n",
    "\n",
    "  for i in range(num_iter):\n",
    "    dj_dw, dj_db = gradient_function(x, y, w, b)\n",
    "    for j in range(m):\n",
    "      w[j] = w[j] - alpha * dj_dw\n",
    "      b[j] = b[j] - alpha * dj_db\n",
    "    \n",
    "    if num_iter < 100000:\n",
    "      costs_history.append(cost_function(x, y, w, b))\n",
    "      parameters_history.append([w, b])\n",
    "    \n",
    "    if i % math.ceil(num_iter / 10) == 0:\n",
    "      print(f\"Iteration {i:4}: Cost {costs_history[-1]:0.2e}\",\n",
    "            f\"dj_dw: {dj_dw:0.3e}, dj_db: {dj_db:0.3e}\",\n",
    "            f\"w: {w:0.3e}, b: {b:0.3e}\")\n",
    "    \n",
    "    return w, b, costs_history, parameters_history"
   ]
  },
  {
   "cell_type": "code",
   "execution_count": 6,
   "metadata": {},
   "outputs": [
    {
     "ename": "ValueError",
     "evalue": "setting an array element with a sequence.",
     "output_type": "error",
     "traceback": [
      "\u001b[1;31m---------------------------------------------------------------------------\u001b[0m",
      "\u001b[1;31mTypeError\u001b[0m                                 Traceback (most recent call last)",
      "\u001b[1;31mTypeError\u001b[0m: only size-1 arrays can be converted to Python scalars",
      "\nThe above exception was the direct cause of the following exception:\n",
      "\u001b[1;31mValueError\u001b[0m                                Traceback (most recent call last)",
      "\u001b[1;32md:\\Work\\Multiple_Linear_Regression.ipynb Cell 6\u001b[0m line \u001b[0;36m7\n\u001b[0;32m      <a href='vscode-notebook-cell:/d%3A/Work/Multiple_Linear_Regression.ipynb#W5sZmlsZQ%3D%3D?line=3'>4</a>\u001b[0m iterations \u001b[39m=\u001b[39m \u001b[39m10000\u001b[39m\n\u001b[0;32m      <a href='vscode-notebook-cell:/d%3A/Work/Multiple_Linear_Regression.ipynb#W5sZmlsZQ%3D%3D?line=4'>5</a>\u001b[0m alpha \u001b[39m=\u001b[39m \u001b[39m0.01\u001b[39m\n\u001b[1;32m----> <a href='vscode-notebook-cell:/d%3A/Work/Multiple_Linear_Regression.ipynb#W5sZmlsZQ%3D%3D?line=6'>7</a>\u001b[0m w_final, b_final, costs_history, parameters_history \u001b[39m=\u001b[39m gradient_descent(X_train, y_train, w_initial, b_initial, alpha, iterations,\n\u001b[0;32m      <a href='vscode-notebook-cell:/d%3A/Work/Multiple_Linear_Regression.ipynb#W5sZmlsZQ%3D%3D?line=7'>8</a>\u001b[0m                                                                        compute_cost, compute_gradient)\n\u001b[0;32m     <a href='vscode-notebook-cell:/d%3A/Work/Multiple_Linear_Regression.ipynb#W5sZmlsZQ%3D%3D?line=9'>10</a>\u001b[0m \u001b[39mprint\u001b[39m(\u001b[39mf\u001b[39m\u001b[39m\"\u001b[39m\u001b[39m(w,b) found by gradient descent: (\u001b[39m\u001b[39m{\u001b[39;00mw_final\u001b[39m:\u001b[39;00m\u001b[39m0.4f\u001b[39m\u001b[39m}\u001b[39;00m\u001b[39m, \u001b[39m\u001b[39m{\u001b[39;00mb_final\u001b[39m:\u001b[39;00m\u001b[39m0.4f\u001b[39m\u001b[39m}\u001b[39;00m\u001b[39m)\u001b[39m\u001b[39m\"\u001b[39m)\n",
      "\u001b[1;32md:\\Work\\Multiple_Linear_Regression.ipynb Cell 6\u001b[0m line \u001b[0;36m1\n\u001b[0;32m      <a href='vscode-notebook-cell:/d%3A/Work/Multiple_Linear_Regression.ipynb#W5sZmlsZQ%3D%3D?line=8'>9</a>\u001b[0m dj_dw, dj_db \u001b[39m=\u001b[39m gradient_function(x, y, w, b)\n\u001b[0;32m     <a href='vscode-notebook-cell:/d%3A/Work/Multiple_Linear_Regression.ipynb#W5sZmlsZQ%3D%3D?line=9'>10</a>\u001b[0m \u001b[39mfor\u001b[39;00m j \u001b[39min\u001b[39;00m \u001b[39mrange\u001b[39m(m):\n\u001b[1;32m---> <a href='vscode-notebook-cell:/d%3A/Work/Multiple_Linear_Regression.ipynb#W5sZmlsZQ%3D%3D?line=10'>11</a>\u001b[0m   w[j] \u001b[39m=\u001b[39m w[j] \u001b[39m-\u001b[39m alpha \u001b[39m*\u001b[39m dj_dw\n\u001b[0;32m     <a href='vscode-notebook-cell:/d%3A/Work/Multiple_Linear_Regression.ipynb#W5sZmlsZQ%3D%3D?line=11'>12</a>\u001b[0m   b[j] \u001b[39m=\u001b[39m b[j] \u001b[39m-\u001b[39m alpha \u001b[39m*\u001b[39m dj_db\n\u001b[0;32m     <a href='vscode-notebook-cell:/d%3A/Work/Multiple_Linear_Regression.ipynb#W5sZmlsZQ%3D%3D?line=13'>14</a>\u001b[0m \u001b[39mif\u001b[39;00m num_iter \u001b[39m<\u001b[39m \u001b[39m100000\u001b[39m:\n",
      "\u001b[1;31mValueError\u001b[0m: setting an array element with a sequence."
     ]
    }
   ],
   "source": [
    "w_initial = np.zeros_like(X_train[0])\n",
    "b_initial = 0\n",
    "\n",
    "iterations = 10000\n",
    "alpha = 0.01\n",
    "\n",
    "w_final, b_final, costs_history, parameters_history = gradient_descent(X_train, y_train, w_initial, b_initial, alpha, iterations,\n",
    "                                                                       compute_cost, compute_gradient)\n",
    "\n",
    "print(f\"(w,b) found by gradient descent: ({w_final:0.4f}, {b_final:0.4f})\")"
   ]
  }
 ],
 "metadata": {
  "kernelspec": {
   "display_name": "Python 3",
   "language": "python",
   "name": "python3"
  },
  "language_info": {
   "codemirror_mode": {
    "name": "ipython",
    "version": 3
   },
   "file_extension": ".py",
   "mimetype": "text/x-python",
   "name": "python",
   "nbconvert_exporter": "python",
   "pygments_lexer": "ipython3",
   "version": "3.11.5"
  }
 },
 "nbformat": 4,
 "nbformat_minor": 2
}
