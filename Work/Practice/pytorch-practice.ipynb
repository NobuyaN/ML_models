{
 "cells": [
  {
   "cell_type": "code",
   "execution_count": 13,
   "metadata": {},
   "outputs": [],
   "source": [
    "import torch\n",
    "from torch import nn\n",
    "from torch.utils.data import DataLoader\n",
    "from torchvision import datasets\n",
    "from torchvision.transforms import ToTensor\n",
    "import numpy as np\n",
    "\n",
    "SEED = 42\n",
    "np.random.seed(SEED)"
   ]
  },
  {
   "cell_type": "code",
   "execution_count": 14,
   "metadata": {},
   "outputs": [],
   "source": [
    "training_data = datasets.FashionMNIST(root=\"data\",\n",
    "                                      train=True,\n",
    "                                      download=True,\n",
    "                                      transform=ToTensor())\n",
    "\n",
    "testing_data = datasets.FashionMNIST(root=\"data\",\n",
    "                                     train=False,\n",
    "                                     download=True,\n",
    "                                     transform=ToTensor())"
   ]
  },
  {
   "cell_type": "code",
   "execution_count": 15,
   "metadata": {},
   "outputs": [
    {
     "name": "stdout",
     "output_type": "stream",
     "text": [
      "Shape of X [N, C, H, W]: torch.Size([64, 1, 28, 28])\n",
      "Shape of y: torch.Size([64])\n"
     ]
    }
   ],
   "source": [
    "batch_size = 64\n",
    "\n",
    "#For the last batch where the size is smaller than the deafulted batch_size, just drop the data \n",
    "#as the batch_size is not a factor of the number of data inside a dataloader\n",
    "train_dataloader = DataLoader(training_data, batch_size=batch_size, shuffle=True, drop_last=True)\n",
    "test_dataloader = DataLoader(testing_data, batch_size=batch_size, shuffle=True, drop_last=True)\n",
    "\n",
    "#Each element in the dataloader iterable would return a batch of 64 features and labels\n",
    "# This forloop would iterator through all element in the test_dataloader iterable and show each shape value\n",
    "for X, y in test_dataloader:\n",
    "  print(f\"Shape of X [N, C, H, W]: {X.shape}\")\n",
    "  print(f\"Shape of y: {y.shape}\")\n",
    "  break "
   ]
  },
  {
   "cell_type": "code",
   "execution_count": 16,
   "metadata": {},
   "outputs": [],
   "source": [
    "image_height = X.shape[2]\n",
    "image_width = X.shape[3]"
   ]
  },
  {
   "cell_type": "code",
   "execution_count": 17,
   "metadata": {},
   "outputs": [
    {
     "name": "stdout",
     "output_type": "stream",
     "text": [
      "Using cpu device\n"
     ]
    }
   ],
   "source": [
    "if torch.cuda.is_available():\n",
    "  device = \"gpu\"\n",
    "elif torch.backends.mps.is_available():\n",
    "  device = \"mps\"\n",
    "else:\n",
    "  device = \"cpu\"\n",
    "\n",
    "print(f\"Using {device} device\")"
   ]
  },
  {
   "cell_type": "code",
   "execution_count": 18,
   "metadata": {},
   "outputs": [
    {
     "name": "stdout",
     "output_type": "stream",
     "text": [
      "NeuralNetwork(\n",
      "  (flatten): Flatten(start_dim=1, end_dim=-1)\n",
      "  (linear_relu_stack): Sequential(\n",
      "    (0): Linear(in_features=784, out_features=512, bias=True)\n",
      "    (1): ReLU()\n",
      "    (2): Linear(in_features=512, out_features=512, bias=True)\n",
      "    (3): ReLU()\n",
      "    (4): Linear(in_features=512, out_features=10, bias=True)\n",
      "  )\n",
      ")\n"
     ]
    }
   ],
   "source": [
    "#Make a subclass that inherits properties from nn.Model parent class\n",
    "class NeuralNetwork(nn.Module):\n",
    "  #Initialize your NeuralNetwork Function\n",
    "  def __init__(self): \n",
    "    #To execute the methods of __init__ function in the parent class (nn.Module), run super().__init__()\n",
    "    super().__init__()\n",
    "    self.flatten = nn.Flatten()\n",
    "    self.linear_relu_stack = nn.Sequential(\n",
    "      nn.Linear(image_height*image_width, 512),\n",
    "      nn.ReLU(),\n",
    "      nn.Linear(512, 512),\n",
    "      nn.ReLU(),\n",
    "      nn.Linear(512, 10)\n",
    "    )\n",
    "\n",
    "  def forward(self, x):\n",
    "    x = self.flatten(x)\n",
    "    logits = self.linear_relu_stack(x)\n",
    "    return logits\n",
    "  \n",
    "model = NeuralNetwork().to(device)\n",
    "print(model)"
   ]
  },
  {
   "cell_type": "code",
   "execution_count": 19,
   "metadata": {},
   "outputs": [],
   "source": [
    "loss_fn = nn.CrossEntropyLoss()\n",
    "optimizer = torch.optim.SGD(model.parameters(), lr=1e-3)"
   ]
  },
  {
   "cell_type": "code",
   "execution_count": 20,
   "metadata": {},
   "outputs": [],
   "source": [
    "def train(dataloader, model, loss_fn, optimizer):\n",
    "\n",
    "  #The size of the training dataloader iterable\n",
    "  size = len(dataloader.dataset)\n",
    "\n",
    "  #Set model to training mode after the test function is set to eval mode\n",
    "  model.train()\n",
    "  for batch, (X, y) in enumerate(dataloader):\n",
    "    X, y = X.to(device), y.to(device)\n",
    "    #Computing batch_size prediction each batch \n",
    "    #Invokes __call__ method, inherited from nn.Module class, forward is called \n",
    "    pred = model(X)\n",
    "    \n",
    "    #loss would output as a form of tensor and not python numbers\n",
    "    loss = loss_fn(pred, y)\n",
    "\n",
    "    #Backprop, computing gradient via chain rule \n",
    "    loss.backward()\n",
    "    optimizer.step()\n",
    "\n",
    "    #You dont want old gradient to interfere with your new one because backward() accumulates\n",
    "    optimizer.zero_grad()\n",
    "\n",
    "    if batch % 100 == 0:\n",
    "      #current is incremented by 64 (batch size) every batch iteration\n",
    "      loss, current = loss.item(), (batch + 1) * len(X)\n",
    "      \n",
    "      #>7f means to create 7 spaces and align to the right as floating point number\n",
    "      print(f\"loss: {loss:>7f} [{current:>5d}/{size:>5d}]\")"
   ]
  },
  {
   "cell_type": "code",
   "execution_count": 21,
   "metadata": {},
   "outputs": [],
   "source": [
    "def test(dataloader, model, loss_fn):\n",
    "  size = len(dataloader.dataset)\n",
    "  num_batches = len(dataloader)\n",
    "  model.eval()\n",
    "  test_loss, correct = 0, 0\n",
    "\n",
    "  #Line below is to do it without keeping track of the gradient, disables gradient calculation\n",
    "  #Every computation (except some), require_grad would always be set to False to reduce memory consumption\n",
    "  with torch.no_grad():\n",
    "    for X, y in dataloader:\n",
    "      X, y = X.to(device), y.to(device)\n",
    "\n",
    "      #Invokes __call__ method, inherited from nn.Module class, forward is called\n",
    "      pred = model(X)\n",
    "\n",
    "      #item() converts the tensor into a python number\n",
    "      test_loss += loss_fn(pred, y).item()\n",
    "\n",
    "      #Compare the ground truth to prediction and let it equal, then type cast to int and sum all the 1 to find how much is correct\n",
    "      #Note: dim in pytorch is the same as axis for numpy\n",
    "      #with dim=1, you go by columns, dim=0, you go by rows\n",
    "      correct += (pred.argmax(dim=1) == y).type(torch.int).sum().item()\n",
    "\n",
    "  #Avg Loss: total loss / number of batches (floor(data num / batch_size))\n",
    "  test_loss /= num_batches\n",
    "  \n",
    "  #Accuracy: number of correct prediction / number of total data\n",
    "  correct /= size\n",
    "  print(f\"Test Error \\n Accuracy: {(100*correct):>0.1f}%, Avg Loss: {test_loss:>8f} \\n\")"
   ]
  },
  {
   "cell_type": "code",
   "execution_count": 22,
   "metadata": {},
   "outputs": [],
   "source": [
    "def main():\n",
    "  epochs = 1\n",
    "  for t in range(epochs):\n",
    "    print(f\"Epoch {t+1} \\n -------------------------------\")\n",
    "\n",
    "    #Train the model\n",
    "    train(train_dataloader, model, loss_fn, optimizer)\n",
    "\n",
    "    #Pass in the trained model and make prediction, find the accuracy/loss\n",
    "    test(test_dataloader, model, loss_fn)\n",
    "    \n",
    "  print(\"Execution Finished\")"
   ]
  },
  {
   "cell_type": "code",
   "execution_count": 23,
   "metadata": {},
   "outputs": [
    {
     "name": "stdout",
     "output_type": "stream",
     "text": [
      "Epoch 1 \n",
      " -------------------------------\n",
      "loss: 2.285285 [   64/60000]\n"
     ]
    },
    {
     "name": "stdout",
     "output_type": "stream",
     "text": [
      "loss: 2.286288 [ 6464/60000]\n",
      "loss: 2.263058 [12864/60000]\n",
      "loss: 2.251193 [19264/60000]\n",
      "loss: 2.245316 [25664/60000]\n",
      "loss: 2.238750 [32064/60000]\n",
      "loss: 2.214597 [38464/60000]\n",
      "loss: 2.198560 [44864/60000]\n",
      "loss: 2.156345 [51264/60000]\n",
      "loss: 2.163560 [57664/60000]\n",
      "Test Error \n",
      " Accuracy: 39.0%, Avg Loss: 2.147731 \n",
      "\n",
      "Execution Finished\n"
     ]
    }
   ],
   "source": [
    "if __name__ == \"__main__\":\n",
    "  main()"
   ]
  },
  {
   "cell_type": "code",
   "execution_count": 24,
   "metadata": {},
   "outputs": [],
   "source": [
    "#From PyTorch Official Website\n",
    "#Question: Why dont we need to feed the logits into a softmax layer\n",
    "#Is it because even for linear/relu activation, the largest number would always be the highest probability"
   ]
  },
  {
   "cell_type": "code",
   "execution_count": null,
   "metadata": {},
   "outputs": [],
   "source": []
  }
 ],
 "metadata": {
  "kernelspec": {
   "display_name": "Python 3",
   "language": "python",
   "name": "python3"
  },
  "language_info": {
   "codemirror_mode": {
    "name": "ipython",
    "version": 3
   },
   "file_extension": ".py",
   "mimetype": "text/x-python",
   "name": "python",
   "nbconvert_exporter": "python",
   "pygments_lexer": "ipython3",
   "version": "3.11.5"
  }
 },
 "nbformat": 4,
 "nbformat_minor": 2
}
