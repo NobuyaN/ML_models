{
 "cells": [
  {
   "cell_type": "code",
   "execution_count": 1,
   "metadata": {},
   "outputs": [],
   "source": [
    "import pandas as pd\n",
    "import numpy as np\n",
    "from xgboost import XGBClassifier\n",
    "from sklearn.model_selection import train_test_split, GridSearchCV\n",
    "from sklearn.preprocessing import StandardScaler, LabelEncoder\n",
    "import seaborn as sns\n",
    "from scipy.io import arff\n",
    "RANDOM_STATE = 1234"
   ]
  },
  {
   "cell_type": "code",
   "execution_count": 2,
   "metadata": {},
   "outputs": [
    {
     "data": {
      "text/html": [
       "<div>\n",
       "<style scoped>\n",
       "    .dataframe tbody tr th:only-of-type {\n",
       "        vertical-align: middle;\n",
       "    }\n",
       "\n",
       "    .dataframe tbody tr th {\n",
       "        vertical-align: top;\n",
       "    }\n",
       "\n",
       "    .dataframe thead th {\n",
       "        text-align: right;\n",
       "    }\n",
       "</style>\n",
       "<table border=\"1\" class=\"dataframe\">\n",
       "  <thead>\n",
       "    <tr style=\"text-align: right;\">\n",
       "      <th></th>\n",
       "      <th>Area</th>\n",
       "      <th>Perimeter</th>\n",
       "      <th>Major_Axis_Length</th>\n",
       "      <th>Minor_Axis_Length</th>\n",
       "      <th>Eccentricity</th>\n",
       "      <th>Convex_Area</th>\n",
       "      <th>Extent</th>\n",
       "      <th>Class</th>\n",
       "    </tr>\n",
       "  </thead>\n",
       "  <tbody>\n",
       "    <tr>\n",
       "      <th>0</th>\n",
       "      <td>15231.0</td>\n",
       "      <td>525.578979</td>\n",
       "      <td>229.749878</td>\n",
       "      <td>85.093788</td>\n",
       "      <td>0.928882</td>\n",
       "      <td>15617.0</td>\n",
       "      <td>0.572896</td>\n",
       "      <td>b'Cammeo'</td>\n",
       "    </tr>\n",
       "    <tr>\n",
       "      <th>1</th>\n",
       "      <td>14656.0</td>\n",
       "      <td>494.311005</td>\n",
       "      <td>206.020065</td>\n",
       "      <td>91.730972</td>\n",
       "      <td>0.895405</td>\n",
       "      <td>15072.0</td>\n",
       "      <td>0.615436</td>\n",
       "      <td>b'Cammeo'</td>\n",
       "    </tr>\n",
       "    <tr>\n",
       "      <th>2</th>\n",
       "      <td>14634.0</td>\n",
       "      <td>501.122009</td>\n",
       "      <td>214.106781</td>\n",
       "      <td>87.768288</td>\n",
       "      <td>0.912118</td>\n",
       "      <td>14954.0</td>\n",
       "      <td>0.693259</td>\n",
       "      <td>b'Cammeo'</td>\n",
       "    </tr>\n",
       "    <tr>\n",
       "      <th>3</th>\n",
       "      <td>13176.0</td>\n",
       "      <td>458.342987</td>\n",
       "      <td>193.337387</td>\n",
       "      <td>87.448395</td>\n",
       "      <td>0.891861</td>\n",
       "      <td>13368.0</td>\n",
       "      <td>0.640669</td>\n",
       "      <td>b'Cammeo'</td>\n",
       "    </tr>\n",
       "    <tr>\n",
       "      <th>4</th>\n",
       "      <td>14688.0</td>\n",
       "      <td>507.166992</td>\n",
       "      <td>211.743378</td>\n",
       "      <td>89.312454</td>\n",
       "      <td>0.906691</td>\n",
       "      <td>15262.0</td>\n",
       "      <td>0.646024</td>\n",
       "      <td>b'Cammeo'</td>\n",
       "    </tr>\n",
       "  </tbody>\n",
       "</table>\n",
       "</div>"
      ],
      "text/plain": [
       "      Area   Perimeter  Major_Axis_Length  Minor_Axis_Length  Eccentricity  \\\n",
       "0  15231.0  525.578979         229.749878          85.093788      0.928882   \n",
       "1  14656.0  494.311005         206.020065          91.730972      0.895405   \n",
       "2  14634.0  501.122009         214.106781          87.768288      0.912118   \n",
       "3  13176.0  458.342987         193.337387          87.448395      0.891861   \n",
       "4  14688.0  507.166992         211.743378          89.312454      0.906691   \n",
       "\n",
       "   Convex_Area    Extent      Class  \n",
       "0      15617.0  0.572896  b'Cammeo'  \n",
       "1      15072.0  0.615436  b'Cammeo'  \n",
       "2      14954.0  0.693259  b'Cammeo'  \n",
       "3      13368.0  0.640669  b'Cammeo'  \n",
       "4      15262.0  0.646024  b'Cammeo'  "
      ]
     },
     "execution_count": 2,
     "metadata": {},
     "output_type": "execute_result"
    }
   ],
   "source": [
    "df = arff.loadarff(\"D:/githubrepo/ML_models/Work/rice/Data/Rice_Cammeo_Osmancik.arff\")\n",
    "df = pd.DataFrame(df[0])\n",
    "df.head()"
   ]
  },
  {
   "cell_type": "code",
   "execution_count": 3,
   "metadata": {},
   "outputs": [
    {
     "data": {
      "text/plain": [
       "array([0, 0, 0, 0, 0, 0, 0, 0], dtype=int64)"
      ]
     },
     "execution_count": 3,
     "metadata": {},
     "output_type": "execute_result"
    }
   ],
   "source": [
    "df.isnull().sum().values"
   ]
  },
  {
   "cell_type": "code",
   "execution_count": 4,
   "metadata": {},
   "outputs": [
    {
     "data": {
      "text/plain": [
       "array([0, 0, 0, 0, 0, 0, 0, 0], dtype=int64)"
      ]
     },
     "execution_count": 4,
     "metadata": {},
     "output_type": "execute_result"
    }
   ],
   "source": [
    "df.isna().sum().values"
   ]
  },
  {
   "cell_type": "code",
   "execution_count": 5,
   "metadata": {},
   "outputs": [],
   "source": [
    "X = df.drop(['Class'], axis=1)"
   ]
  },
  {
   "cell_type": "code",
   "execution_count": 6,
   "metadata": {},
   "outputs": [],
   "source": [
    "df['Class'][1]\n",
    "df['Class'] = (df['Class'] == df['Class'][0]).astype(int)\n",
    "# 1: Cammeo 0: Osmancik"
   ]
  },
  {
   "cell_type": "code",
   "execution_count": 7,
   "metadata": {},
   "outputs": [],
   "source": [
    "scaler = StandardScaler()\n",
    "X = pd.DataFrame(scaler.fit_transform(X), columns=X.columns)\n",
    "y = df['Class']"
   ]
  },
  {
   "cell_type": "code",
   "execution_count": 8,
   "metadata": {},
   "outputs": [
    {
     "name": "stdout",
     "output_type": "stream",
     "text": [
      "X_train: (2286, 7) y_train: (2286,)\n",
      "X_test: (762, 7) y_test: (762,)\n",
      "X_cv: (762, 7) y_cv: (762,)\n"
     ]
    }
   ],
   "source": [
    "X_train, X_, y_train, y_ = train_test_split(X, y, train_size=0.6, random_state=RANDOM_STATE)\n",
    "X_test, X_cv, y_test, y_cv = train_test_split(X_, y_, train_size=0.5, random_state=RANDOM_STATE)\n",
    "del X_, y_\n",
    "\n",
    "print(f\"X_train: {X_train.shape} y_train: {y_train.shape}\")\n",
    "print(f\"X_test: {X_test.shape} y_test: {y_test.shape}\")\n",
    "print(f\"X_cv: {X_cv.shape} y_cv: {y_cv.shape}\")"
   ]
  },
  {
   "cell_type": "code",
   "execution_count": 9,
   "metadata": {},
   "outputs": [],
   "source": [
    "corr = df.corr()"
   ]
  },
  {
   "cell_type": "code",
   "execution_count": 10,
   "metadata": {},
   "outputs": [
    {
     "data": {
      "text/plain": [
       "<Axes: >"
      ]
     },
     "execution_count": 10,
     "metadata": {},
     "output_type": "execute_result"
    },
    {
     "data": {
      "image/png": "[encoded data removed]",
      "text/plain": [
       "<Figure size 640x480 with 2 Axes>"
      ]
     },
     "metadata": {},
     "output_type": "display_data"
    }
   ],
   "source": [
    "sns.heatmap(corr)"
   ]
  },
  {
   "cell_type": "code",
   "execution_count": 12,
   "metadata": {},
   "outputs": [],
   "source": [
    "model = XGBClassifier(random_state=RANDOM_STATE)\n",
    "\n",
    "param_grid = {\"n_estimators\": [5, 10, 20, 40, 50, 80, 120, 200],\n",
    "              \"max_depth\": [1, 5, 10, 15, 30, 60],\n",
    "              \"learning_rate\": [1e-5, 1e-4, 1e-3, 1e-2],\n",
    "              \"gamma\": [0.001, 0.01, 0.1, 1]}\n",
    "\n",
    "grid_model = GridSearchCV(estimator=model,\n",
    "                          param_grid=param_grid,\n",
    "                          scoring='accuracy',\n",
    "                          refit='accuracy',\n",
    "                          cv=5, \n",
    "                          verbose=0,\n",
    "                          return_train_score=True,\n",
    "                          )\n",
    "\n",
    "grid_result = grid_model.fit(X_train, y_train, verbose=0)"
   ]
  },
  {
   "cell_type": "code",
   "execution_count": 13,
   "metadata": {},
   "outputs": [
    {
     "name": "stdout",
     "output_type": "stream",
     "text": [
      "Best Parameter: {'gamma': 0.001, 'learning_rate': 0.01, 'max_depth': 1, 'n_estimators': 200}\n",
      "Best Accuracy: 0.9282562372793899\n"
     ]
    }
   ],
   "source": [
    "print(f\"Best Parameter: {grid_model.best_params_}\")\n",
    "print(f\"Best Accuracy: {grid_model.best_score_}\")"
   ]
  },
  {
   "cell_type": "code",
   "execution_count": 14,
   "metadata": {},
   "outputs": [
    {
     "name": "stdout",
     "output_type": "stream",
     "text": [
      "Test Accuracy: 0.9146981627296588\n"
     ]
    }
   ],
   "source": [
    "print(f\"Test Accuracy: {grid_model.score(X_test, y_test)}\")"
   ]
  },
  {
   "cell_type": "code",
   "execution_count": 15,
   "metadata": {},
   "outputs": [],
   "source": [
    "result_df = pd.DataFrame(grid_model.cv_results_)\n",
    "result_df = result_df.sort_values(\"rank_test_score\")\n",
    "result_df.to_csv('xgboost_parameters.csv')"
   ]
  },
  {
   "cell_type": "code",
   "execution_count": null,
   "metadata": {},
   "outputs": [],
   "source": []
  }
 ],
 "metadata": {
  "kernelspec": {
   "display_name": "Python 3",
   "language": "python",
   "name": "python3"
  },
  "language_info": {
   "codemirror_mode": {
    "name": "ipython",
    "version": 3
   },
   "file_extension": ".py",
   "mimetype": "text/x-python",
   "name": "python",
   "nbconvert_exporter": "python",
   "pygments_lexer": "ipython3",
   "version": "3.11.5"
  }
 },
 "nbformat": 4,
 "nbformat_minor": 2
}
