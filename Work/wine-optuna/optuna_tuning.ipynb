{
 "cells": [
  {
   "cell_type": "code",
   "execution_count": 35,
   "metadata": {},
   "outputs": [],
   "source": [
    "import pandas as pd\n",
    "from xgboost import XGBClassifier\n",
    "from sklearn.model_selection import train_test_split, cross_val_score\n",
    "from sklearn.preprocessing import StandardScaler, LabelEncoder\n",
    "from sklearn.ensemble import RandomForestClassifier\n",
    "from sklearn.metrics import accuracy_score\n",
    "import optuna\n",
    "\n",
    "RANDOM_STATE = 1234"
   ]
  },
  {
   "cell_type": "code",
   "execution_count": 19,
   "metadata": {},
   "outputs": [],
   "source": [
    "columns = [\"class\", \"Alcohol\", \"Malicacid\", \"Ash\", \"Alcalinity_of_ash\", \"Magnesium\", \n",
    "           \"Total_phenols\", \"Flavanoids\", \"Nonflavanoid_phenols\", \"Proanthocyanins\", \n",
    "           \"Color_intensity\", \"Hue\", \"0D280_0D315_of_diluted_wines\", \"Proline\"]\n",
    "df = pd.read_csv(\"D:/Work/wine/wine/wine.data\", names=columns)"
   ]
  },
  {
   "cell_type": "code",
   "execution_count": 20,
   "metadata": {},
   "outputs": [
    {
     "data": {
      "text/plain": [
       "array([0, 0, 0, 0, 0, 0, 0, 0, 0, 0, 0, 0, 0, 0], dtype=int64)"
      ]
     },
     "execution_count": 20,
     "metadata": {},
     "output_type": "execute_result"
    }
   ],
   "source": [
    "df.isnull().sum().values"
   ]
  },
  {
   "cell_type": "code",
   "execution_count": 21,
   "metadata": {},
   "outputs": [],
   "source": [
    "numerical_cols = columns[1:]\n",
    "df[numerical_cols] = StandardScaler().fit_transform(df[numerical_cols])"
   ]
  },
  {
   "cell_type": "code",
   "execution_count": 22,
   "metadata": {},
   "outputs": [],
   "source": [
    "X = df.drop(['class'], axis=1)\n",
    "y = df['class']\n",
    "le = LabelEncoder()\n",
    "y = le.fit_transform(y)"
   ]
  },
  {
   "cell_type": "code",
   "execution_count": 23,
   "metadata": {},
   "outputs": [
    {
     "name": "stdout",
     "output_type": "stream",
     "text": [
      "X_train: (142, 13), y_train: (142,)\n",
      "X_test: (36, 13), y_test: (36,)\n"
     ]
    }
   ],
   "source": [
    "X_train, X_test, y_train, y_test = train_test_split(X, y, train_size=0.8, random_state=RANDOM_STATE)\n",
    "\n",
    "print(f\"X_train: {X_train.shape}, y_train: {y_train.shape}\")\n",
    "print(f\"X_test: {X_test.shape}, y_test: {y_test.shape}\")"
   ]
  },
  {
   "cell_type": "code",
   "execution_count": 24,
   "metadata": {},
   "outputs": [],
   "source": [
    "def objective(trial):\n",
    "  model_name = trial.suggest_categorical(\"classifier\", [\"XGB\", \"RandomForest\"])\n",
    "  if model_name == \"XGB\":\n",
    "    xgb_max_depth = trial.suggest_int(\"xgb_max_depth\", 1, 50, log=True)\n",
    "    xgb_learning_rate = trial.suggest_float(\"xgb_learning_rate\", 1e-5, 1, log=True)\n",
    "    xgb_n_estimators = trial.suggest_int(\"xgb_n_estimators\", 5, 200, log=True)\n",
    "    xgb_lambda = trial.suggest_int(\"xgb_lambda\", 1, 100, log=True)\n",
    "    xgb_gamma = trial.suggest_float(\"xgb_gamma\", 0.001, 1, log=True)\n",
    "    model = XGBClassifier(max_depth=xgb_max_depth,\n",
    "                              learning_rate=xgb_learning_rate,\n",
    "                              n_estimators=xgb_n_estimators, \n",
    "                              gamma=xgb_gamma,\n",
    "                              reg_lambda=xgb_lambda)\n",
    "  else:\n",
    "    rf_max_depth = trial.suggest_int(\"rf_max_depth\", 1, 50, log=True)\n",
    "    rf_min_samples_split = trial.suggest_int(\"rf_min_samples_split\", 2, 30, log=True)\n",
    "    rf_n_estimators = trial.suggest_int(\"rf_n_estimators\", 1, 200, log=True)\n",
    "    model = RandomForestClassifier(max_depth=rf_max_depth,\n",
    "                                      n_estimators=rf_n_estimators,\n",
    "                                      min_samples_split=rf_min_samples_split)\n",
    "\n",
    "  #Score is a array of accuracy for cross validation set (Kfold)\n",
    "  score = cross_val_score(model, X_train, y_train, n_jobs=10, cv=3)\n",
    "  #Take the mean of the score array for all of the cross validation\n",
    "  accuracy = score.mean() \n",
    "  \n",
    "  return accuracy"
   ]
  },
  {
   "cell_type": "code",
   "execution_count": 25,
   "metadata": {},
   "outputs": [
    {
     "name": "stderr",
     "output_type": "stream",
     "text": [
      "[I 2023-12-06 10:51:00,924] A new study created in memory with name: no-name-20ceb619-69c4-4f2c-97b5-21ebec7451a2\n",
      "[I 2023-12-06 10:51:02,806] Trial 0 finished with value: 0.9157801418439716 and parameters: {'classifier': 'XGB', 'xgb_max_depth': 10, 'xgb_learning_rate': 0.0003161532194084871, 'xgb_n_estimators': 6, 'xgb_lambda': 2, 'xgb_gamma': 0.011572079859801429}. Best is trial 0 with value: 0.9157801418439716.\n",
      "[I 2023-12-06 10:51:03,838] Trial 1 finished with value: 0.9230200945626478 and parameters: {'classifier': 'XGB', 'xgb_max_depth': 1, 'xgb_learning_rate': 1.8075959476640448e-05, 'xgb_n_estimators': 23, 'xgb_lambda': 2, 'xgb_gamma': 0.03281826878660249}. Best is trial 1 with value: 0.9230200945626478.\n",
      "[I 2023-12-06 10:51:04,958] Trial 2 finished with value: 0.922872340425532 and parameters: {'classifier': 'XGB', 'xgb_max_depth': 5, 'xgb_learning_rate': 0.000967004040991264, 'xgb_n_estimators': 175, 'xgb_lambda': 74, 'xgb_gamma': 0.0011107025721640836}. Best is trial 1 with value: 0.9230200945626478.\n",
      "[I 2023-12-06 10:51:05,910] Trial 3 finished with value: 0.8806146572104018 and parameters: {'classifier': 'RandomForest', 'rf_max_depth': 11, 'rf_min_samples_split': 16, 'rf_n_estimators': 2}. Best is trial 1 with value: 0.9230200945626478.\n",
      "[I 2023-12-06 10:51:05,970] Trial 4 finished with value: 0.922872340425532 and parameters: {'classifier': 'XGB', 'xgb_max_depth': 3, 'xgb_learning_rate': 2.7029789376065356e-05, 'xgb_n_estimators': 57, 'xgb_lambda': 14, 'xgb_gamma': 0.030175786573775613}. Best is trial 1 with value: 0.9230200945626478.\n",
      "[I 2023-12-06 10:51:06,023] Trial 5 finished with value: 0.9507978723404257 and parameters: {'classifier': 'XGB', 'xgb_max_depth': 1, 'xgb_learning_rate': 0.0075464032873355374, 'xgb_n_estimators': 81, 'xgb_lambda': 1, 'xgb_gamma': 0.002524160280476093}. Best is trial 5 with value: 0.9507978723404257.\n",
      "[I 2023-12-06 10:51:06,140] Trial 6 finished with value: 0.9295212765957447 and parameters: {'classifier': 'RandomForest', 'rf_max_depth': 1, 'rf_min_samples_split': 13, 'rf_n_estimators': 7}. Best is trial 5 with value: 0.9507978723404257.\n",
      "[I 2023-12-06 10:51:06,254] Trial 7 finished with value: 0.6697695035460992 and parameters: {'classifier': 'RandomForest', 'rf_max_depth': 1, 'rf_min_samples_split': 5, 'rf_n_estimators': 2}. Best is trial 5 with value: 0.9507978723404257.\n",
      "[I 2023-12-06 10:51:06,380] Trial 8 finished with value: 0.8949468085106383 and parameters: {'classifier': 'RandomForest', 'rf_max_depth': 10, 'rf_min_samples_split': 3, 'rf_n_estimators': 2}. Best is trial 5 with value: 0.9507978723404257.\n",
      "[I 2023-12-06 10:51:06,495] Trial 9 finished with value: 0.8877068557919623 and parameters: {'classifier': 'RandomForest', 'rf_max_depth': 13, 'rf_min_samples_split': 2, 'rf_n_estimators': 2}. Best is trial 5 with value: 0.9507978723404257.\n",
      "[I 2023-12-06 10:51:06,643] Trial 10 finished with value: 0.9717789598108747 and parameters: {'classifier': 'XGB', 'xgb_max_depth': 36, 'xgb_learning_rate': 0.11419703557873485, 'xgb_n_estimators': 196, 'xgb_lambda': 1, 'xgb_gamma': 0.9693253133359688}. Best is trial 10 with value: 0.9717789598108747.\n",
      "[I 2023-12-06 10:51:06,755] Trial 11 finished with value: 0.9717789598108747 and parameters: {'classifier': 'XGB', 'xgb_max_depth': 49, 'xgb_learning_rate': 0.11786924065248296, 'xgb_n_estimators': 186, 'xgb_lambda': 1, 'xgb_gamma': 0.7745120115285865}. Best is trial 10 with value: 0.9717789598108747.\n",
      "[I 2023-12-06 10:51:06,857] Trial 12 finished with value: 0.9648345153664303 and parameters: {'classifier': 'XGB', 'xgb_max_depth': 50, 'xgb_learning_rate': 0.35821634181218315, 'xgb_n_estimators': 186, 'xgb_lambda': 1, 'xgb_gamma': 0.978470348002857}. Best is trial 10 with value: 0.9717789598108747.\n",
      "[I 2023-12-06 10:51:06,969] Trial 13 finished with value: 0.95774231678487 and parameters: {'classifier': 'XGB', 'xgb_max_depth': 47, 'xgb_learning_rate': 0.3070181435102901, 'xgb_n_estimators': 194, 'xgb_lambda': 5, 'xgb_gamma': 0.9426979403059527}. Best is trial 10 with value: 0.9717789598108747.\n",
      "[I 2023-12-06 10:51:07,062] Trial 14 finished with value: 0.95774231678487 and parameters: {'classifier': 'XGB', 'xgb_max_depth': 20, 'xgb_learning_rate': 0.03995930770404182, 'xgb_n_estimators': 88, 'xgb_lambda': 1, 'xgb_gamma': 0.2754385264842102}. Best is trial 10 with value: 0.9717789598108747.\n",
      "[I 2023-12-06 10:51:07,130] Trial 15 finished with value: 0.9506501182033098 and parameters: {'classifier': 'XGB', 'xgb_max_depth': 22, 'xgb_learning_rate': 0.054524136416167095, 'xgb_n_estimators': 38, 'xgb_lambda': 4, 'xgb_gamma': 0.25541319325782985}. Best is trial 10 with value: 0.9717789598108747.\n",
      "[I 2023-12-06 10:51:07,210] Trial 16 finished with value: 0.978871158392435 and parameters: {'classifier': 'XGB', 'xgb_max_depth': 23, 'xgb_learning_rate': 0.6004950223099726, 'xgb_n_estimators': 111, 'xgb_lambda': 1, 'xgb_gamma': 0.2735034783212445}. Best is trial 16 with value: 0.978871158392435.\n",
      "[I 2023-12-06 10:51:07,293] Trial 17 finished with value: 0.9717789598108747 and parameters: {'classifier': 'XGB', 'xgb_max_depth': 23, 'xgb_learning_rate': 0.8974118163817759, 'xgb_n_estimators': 98, 'xgb_lambda': 2, 'xgb_gamma': 0.22855553217178612}. Best is trial 16 with value: 0.978871158392435.\n",
      "[I 2023-12-06 10:51:07,428] Trial 18 finished with value: 0.9507978723404257 and parameters: {'classifier': 'XGB', 'xgb_max_depth': 12, 'xgb_learning_rate': 0.02346425612478369, 'xgb_n_estimators': 110, 'xgb_lambda': 10, 'xgb_gamma': 0.10714705519311607}. Best is trial 16 with value: 0.978871158392435.\n",
      "[I 2023-12-06 10:51:07,497] Trial 19 finished with value: 0.9717789598108747 and parameters: {'classifier': 'XGB', 'xgb_max_depth': 11, 'xgb_learning_rate': 0.8551439448294254, 'xgb_n_estimators': 50, 'xgb_lambda': 2, 'xgb_gamma': 0.4045817342339969}. Best is trial 16 with value: 0.978871158392435.\n",
      "[I 2023-12-06 10:51:07,587] Trial 20 finished with value: 0.9717789598108747 and parameters: {'classifier': 'XGB', 'xgb_max_depth': 28, 'xgb_learning_rate': 0.1452517813226153, 'xgb_n_estimators': 118, 'xgb_lambda': 4, 'xgb_gamma': 0.11051854781731876}. Best is trial 16 with value: 0.978871158392435.\n",
      "[I 2023-12-06 10:51:07,703] Trial 21 finished with value: 0.9717789598108747 and parameters: {'classifier': 'XGB', 'xgb_max_depth': 50, 'xgb_learning_rate': 0.1540592115174077, 'xgb_n_estimators': 186, 'xgb_lambda': 1, 'xgb_gamma': 0.9285712955095765}. Best is trial 16 with value: 0.978871158392435.\n",
      "[I 2023-12-06 10:51:07,809] Trial 22 finished with value: 0.9717789598108747 and parameters: {'classifier': 'XGB', 'xgb_max_depth': 31, 'xgb_learning_rate': 0.11508500689518951, 'xgb_n_estimators': 128, 'xgb_lambda': 1, 'xgb_gamma': 0.5553713278683009}. Best is trial 16 with value: 0.978871158392435.\n",
      "[I 2023-12-06 10:51:07,957] Trial 23 finished with value: 0.9506501182033098 and parameters: {'classifier': 'XGB', 'xgb_max_depth': 34, 'xgb_learning_rate': 0.013967505798404516, 'xgb_n_estimators': 139, 'xgb_lambda': 1, 'xgb_gamma': 0.47010956583989366}. Best is trial 16 with value: 0.978871158392435.\n",
      "[I 2023-12-06 10:51:08,049] Trial 24 finished with value: 0.9717789598108747 and parameters: {'classifier': 'XGB', 'xgb_max_depth': 16, 'xgb_learning_rate': 0.0592841856053104, 'xgb_n_estimators': 82, 'xgb_lambda': 2, 'xgb_gamma': 0.4859883360433225}. Best is trial 16 with value: 0.978871158392435.\n",
      "[I 2023-12-06 10:51:08,134] Trial 25 finished with value: 0.9717789598108747 and parameters: {'classifier': 'XGB', 'xgb_max_depth': 36, 'xgb_learning_rate': 0.5078227678015724, 'xgb_n_estimators': 136, 'xgb_lambda': 3, 'xgb_gamma': 0.16554318379578875}. Best is trial 16 with value: 0.978871158392435.\n",
      "[I 2023-12-06 10:51:08,392] Trial 26 finished with value: 0.9859633569739952 and parameters: {'classifier': 'RandomForest', 'rf_max_depth': 42, 'rf_min_samples_split': 29, 'rf_n_estimators': 149}. Best is trial 26 with value: 0.9859633569739952.\n",
      "[I 2023-12-06 10:51:08,629] Trial 27 finished with value: 0.9790189125295509 and parameters: {'classifier': 'RandomForest', 'rf_max_depth': 49, 'rf_min_samples_split': 30, 'rf_n_estimators': 139}. Best is trial 26 with value: 0.9859633569739952.\n",
      "[I 2023-12-06 10:51:08,941] Trial 28 finished with value: 0.9859633569739952 and parameters: {'classifier': 'RandomForest', 'rf_max_depth': 49, 'rf_min_samples_split': 28, 'rf_n_estimators': 174}. Best is trial 26 with value: 0.9859633569739952.\n",
      "[I 2023-12-06 10:51:09,245] Trial 29 finished with value: 0.9859633569739952 and parameters: {'classifier': 'RandomForest', 'rf_max_depth': 50, 'rf_min_samples_split': 29, 'rf_n_estimators': 179}. Best is trial 26 with value: 0.9859633569739952.\n",
      "[I 2023-12-06 10:51:09,569] Trial 30 finished with value: 0.9790189125295509 and parameters: {'classifier': 'RandomForest', 'rf_max_depth': 48, 'rf_min_samples_split': 28, 'rf_n_estimators': 189}. Best is trial 26 with value: 0.9859633569739952.\n",
      "[I 2023-12-06 10:51:09,861] Trial 31 finished with value: 0.978871158392435 and parameters: {'classifier': 'RandomForest', 'rf_max_depth': 46, 'rf_min_samples_split': 30, 'rf_n_estimators': 180}. Best is trial 26 with value: 0.9859633569739952.\n",
      "[I 2023-12-06 10:51:10,056] Trial 32 finished with value: 0.9859633569739952 and parameters: {'classifier': 'RandomForest', 'rf_max_depth': 45, 'rf_min_samples_split': 29, 'rf_n_estimators': 108}. Best is trial 26 with value: 0.9859633569739952.\n",
      "[I 2023-12-06 10:51:10,196] Trial 33 finished with value: 0.9790189125295509 and parameters: {'classifier': 'RandomForest', 'rf_max_depth': 34, 'rf_min_samples_split': 19, 'rf_n_estimators': 68}. Best is trial 26 with value: 0.9859633569739952.\n",
      "[I 2023-12-06 10:51:10,325] Trial 34 finished with value: 0.9859633569739952 and parameters: {'classifier': 'RandomForest', 'rf_max_depth': 25, 'rf_min_samples_split': 20, 'rf_n_estimators': 57}. Best is trial 26 with value: 0.9859633569739952.\n",
      "[I 2023-12-06 10:51:10,474] Trial 35 finished with value: 0.9790189125295509 and parameters: {'classifier': 'RandomForest', 'rf_max_depth': 25, 'rf_min_samples_split': 11, 'rf_n_estimators': 67}. Best is trial 26 with value: 0.9859633569739952.\n",
      "[I 2023-12-06 10:51:10,800] Trial 36 finished with value: 0.9859633569739952 and parameters: {'classifier': 'RandomForest', 'rf_max_depth': 25, 'rf_min_samples_split': 30, 'rf_n_estimators': 195}. Best is trial 26 with value: 0.9859633569739952.\n",
      "[I 2023-12-06 10:51:10,972] Trial 37 finished with value: 0.9790189125295509 and parameters: {'classifier': 'RandomForest', 'rf_max_depth': 49, 'rf_min_samples_split': 20, 'rf_n_estimators': 86}. Best is trial 26 with value: 0.9859633569739952.\n",
      "[I 2023-12-06 10:51:11,045] Trial 38 finished with value: 0.978871158392435 and parameters: {'classifier': 'RandomForest', 'rf_max_depth': 23, 'rf_min_samples_split': 21, 'rf_n_estimators': 27}. Best is trial 26 with value: 0.9859633569739952.\n",
      "[I 2023-12-06 10:51:11,216] Trial 39 finished with value: 0.9859633569739952 and parameters: {'classifier': 'RandomForest', 'rf_max_depth': 30, 'rf_min_samples_split': 10, 'rf_n_estimators': 92}. Best is trial 26 with value: 0.9859633569739952.\n",
      "[I 2023-12-06 10:51:11,312] Trial 40 finished with value: 0.9859633569739952 and parameters: {'classifier': 'RandomForest', 'rf_max_depth': 18, 'rf_min_samples_split': 23, 'rf_n_estimators': 36}. Best is trial 26 with value: 0.9859633569739952.\n",
      "[I 2023-12-06 10:51:11,519] Trial 41 finished with value: 0.9790189125295509 and parameters: {'classifier': 'RandomForest', 'rf_max_depth': 33, 'rf_min_samples_split': 22, 'rf_n_estimators': 108}. Best is trial 26 with value: 0.9859633569739952.\n",
      "[I 2023-12-06 10:51:11,810] Trial 42 finished with value: 0.9859633569739952 and parameters: {'classifier': 'RandomForest', 'rf_max_depth': 47, 'rf_min_samples_split': 24, 'rf_n_estimators': 199}. Best is trial 26 with value: 0.9859633569739952.\n",
      "[I 2023-12-06 10:51:12,003] Trial 43 finished with value: 0.9859633569739952 and parameters: {'classifier': 'RandomForest', 'rf_max_depth': 32, 'rf_min_samples_split': 17, 'rf_n_estimators': 104}. Best is trial 26 with value: 0.9859633569739952.\n",
      "[I 2023-12-06 10:51:12,098] Trial 44 finished with value: 0.9859633569739952 and parameters: {'classifier': 'RandomForest', 'rf_max_depth': 18, 'rf_min_samples_split': 30, 'rf_n_estimators': 51}. Best is trial 26 with value: 0.9859633569739952.\n",
      "[I 2023-12-06 10:51:12,290] Trial 45 finished with value: 0.9859633569739952 and parameters: {'classifier': 'RandomForest', 'rf_max_depth': 34, 'rf_min_samples_split': 23, 'rf_n_estimators': 114}. Best is trial 26 with value: 0.9859633569739952.\n",
      "[I 2023-12-06 10:51:12,526] Trial 46 finished with value: 0.9930555555555555 and parameters: {'classifier': 'RandomForest', 'rf_max_depth': 50, 'rf_min_samples_split': 16, 'rf_n_estimators': 126}. Best is trial 46 with value: 0.9930555555555555.\n",
      "[I 2023-12-06 10:51:12,756] Trial 47 finished with value: 0.9859633569739952 and parameters: {'classifier': 'RandomForest', 'rf_max_depth': 50, 'rf_min_samples_split': 16, 'rf_n_estimators': 124}. Best is trial 46 with value: 0.9930555555555555.\n",
      "[I 2023-12-06 10:51:12,981] Trial 48 finished with value: 0.9859633569739952 and parameters: {'classifier': 'RandomForest', 'rf_max_depth': 38, 'rf_min_samples_split': 25, 'rf_n_estimators': 127}. Best is trial 46 with value: 0.9930555555555555.\n",
      "[I 2023-12-06 10:51:13,298] Trial 49 finished with value: 0.9859633569739952 and parameters: {'classifier': 'RandomForest', 'rf_max_depth': 35, 'rf_min_samples_split': 25, 'rf_n_estimators': 198}. Best is trial 46 with value: 0.9930555555555555.\n",
      "[I 2023-12-06 10:51:13,460] Trial 50 finished with value: 0.9859633569739952 and parameters: {'classifier': 'RandomForest', 'rf_max_depth': 17, 'rf_min_samples_split': 16, 'rf_n_estimators': 80}. Best is trial 46 with value: 0.9930555555555555.\n",
      "[I 2023-12-06 10:51:13,564] Trial 51 finished with value: 0.9859633569739952 and parameters: {'classifier': 'RandomForest', 'rf_max_depth': 27, 'rf_min_samples_split': 20, 'rf_n_estimators': 52}. Best is trial 46 with value: 0.9930555555555555.\n",
      "[I 2023-12-06 10:51:13,832] Trial 52 finished with value: 0.9859633569739952 and parameters: {'classifier': 'RandomForest', 'rf_max_depth': 38, 'rf_min_samples_split': 25, 'rf_n_estimators': 140}. Best is trial 46 with value: 0.9930555555555555.\n",
      "[I 2023-12-06 10:51:14,098] Trial 53 finished with value: 0.9859633569739952 and parameters: {'classifier': 'RandomForest', 'rf_max_depth': 37, 'rf_min_samples_split': 19, 'rf_n_estimators': 136}. Best is trial 46 with value: 0.9930555555555555.\n",
      "[I 2023-12-06 10:51:14,272] Trial 54 finished with value: 0.978871158392435 and parameters: {'classifier': 'RandomForest', 'rf_max_depth': 24, 'rf_min_samples_split': 25, 'rf_n_estimators': 84}. Best is trial 46 with value: 0.9930555555555555.\n",
      "[I 2023-12-06 10:51:14,387] Trial 55 finished with value: 0.9790189125295509 and parameters: {'classifier': 'RandomForest', 'rf_max_depth': 49, 'rf_min_samples_split': 14, 'rf_n_estimators': 57}. Best is trial 46 with value: 0.9930555555555555.\n",
      "[I 2023-12-06 10:51:14,624] Trial 56 finished with value: 0.9859633569739952 and parameters: {'classifier': 'RandomForest', 'rf_max_depth': 37, 'rf_min_samples_split': 30, 'rf_n_estimators': 134}. Best is trial 46 with value: 0.9930555555555555.\n",
      "[I 2023-12-06 10:51:14,784] Trial 57 finished with value: 0.9930555555555555 and parameters: {'classifier': 'RandomForest', 'rf_max_depth': 9, 'rf_min_samples_split': 19, 'rf_n_estimators': 86}. Best is trial 46 with value: 0.9930555555555555.\n",
      "[I 2023-12-06 10:51:14,843] Trial 58 finished with value: 0.9648345153664303 and parameters: {'classifier': 'RandomForest', 'rf_max_depth': 8, 'rf_min_samples_split': 26, 'rf_n_estimators': 21}. Best is trial 46 with value: 0.9930555555555555.\n",
      "[I 2023-12-06 10:51:15,014] Trial 59 finished with value: 0.9859633569739952 and parameters: {'classifier': 'RandomForest', 'rf_max_depth': 4, 'rf_min_samples_split': 17, 'rf_n_estimators': 98}. Best is trial 46 with value: 0.9930555555555555.\n",
      "[I 2023-12-06 10:51:15,262] Trial 60 finished with value: 0.9859633569739952 and parameters: {'classifier': 'RandomForest', 'rf_max_depth': 20, 'rf_min_samples_split': 26, 'rf_n_estimators': 153}. Best is trial 46 with value: 0.9930555555555555.\n",
      "[I 2023-12-06 10:51:15,409] Trial 61 finished with value: 0.9790189125295509 and parameters: {'classifier': 'RandomForest', 'rf_max_depth': 28, 'rf_min_samples_split': 21, 'rf_n_estimators': 73}. Best is trial 46 with value: 0.9930555555555555.\n",
      "[I 2023-12-06 10:51:15,646] Trial 62 finished with value: 0.9930555555555555 and parameters: {'classifier': 'RandomForest', 'rf_max_depth': 44, 'rf_min_samples_split': 14, 'rf_n_estimators': 148}. Best is trial 46 with value: 0.9930555555555555.\n",
      "[I 2023-12-06 10:51:15,928] Trial 63 finished with value: 0.9859633569739952 and parameters: {'classifier': 'RandomForest', 'rf_max_depth': 41, 'rf_min_samples_split': 13, 'rf_n_estimators': 156}. Best is trial 46 with value: 0.9930555555555555.\n",
      "[I 2023-12-06 10:51:16,254] Trial 64 finished with value: 0.9859633569739952 and parameters: {'classifier': 'RandomForest', 'rf_max_depth': 50, 'rf_min_samples_split': 27, 'rf_n_estimators': 200}. Best is trial 46 with value: 0.9930555555555555.\n",
      "[I 2023-12-06 10:51:16,449] Trial 65 finished with value: 0.9930555555555555 and parameters: {'classifier': 'RandomForest', 'rf_max_depth': 38, 'rf_min_samples_split': 18, 'rf_n_estimators': 109}. Best is trial 46 with value: 0.9930555555555555.\n",
      "[I 2023-12-06 10:51:16,729] Trial 66 finished with value: 0.9859633569739952 and parameters: {'classifier': 'RandomForest', 'rf_max_depth': 38, 'rf_min_samples_split': 18, 'rf_n_estimators': 155}. Best is trial 46 with value: 0.9930555555555555.\n",
      "[I 2023-12-06 10:51:16,924] Trial 67 finished with value: 0.9859633569739952 and parameters: {'classifier': 'RandomForest', 'rf_max_depth': 29, 'rf_min_samples_split': 15, 'rf_n_estimators': 109}. Best is trial 46 with value: 0.9930555555555555.\n",
      "[I 2023-12-06 10:51:17,230] Trial 68 finished with value: 0.9930555555555555 and parameters: {'classifier': 'RandomForest', 'rf_max_depth': 42, 'rf_min_samples_split': 12, 'rf_n_estimators': 153}. Best is trial 46 with value: 0.9930555555555555.\n",
      "[I 2023-12-06 10:51:17,467] Trial 69 finished with value: 0.9859633569739952 and parameters: {'classifier': 'RandomForest', 'rf_max_depth': 40, 'rf_min_samples_split': 12, 'rf_n_estimators': 134}. Best is trial 46 with value: 0.9930555555555555.\n",
      "[I 2023-12-06 10:51:17,618] Trial 70 finished with value: 0.9859633569739952 and parameters: {'classifier': 'RandomForest', 'rf_max_depth': 14, 'rf_min_samples_split': 14, 'rf_n_estimators': 86}. Best is trial 46 with value: 0.9930555555555555.\n",
      "[I 2023-12-06 10:51:17,910] Trial 71 finished with value: 0.9930555555555555 and parameters: {'classifier': 'RandomForest', 'rf_max_depth': 42, 'rf_min_samples_split': 10, 'rf_n_estimators': 170}. Best is trial 46 with value: 0.9930555555555555.\n",
      "[I 2023-12-06 10:51:18,216] Trial 72 finished with value: 0.9859633569739952 and parameters: {'classifier': 'RandomForest', 'rf_max_depth': 42, 'rf_min_samples_split': 9, 'rf_n_estimators': 155}. Best is trial 46 with value: 0.9930555555555555.\n",
      "[I 2023-12-06 10:51:18,498] Trial 73 finished with value: 0.9859633569739952 and parameters: {'classifier': 'RandomForest', 'rf_max_depth': 30, 'rf_min_samples_split': 12, 'rf_n_estimators': 162}. Best is trial 46 with value: 0.9930555555555555.\n",
      "[I 2023-12-06 10:51:18,691] Trial 74 finished with value: 0.9930555555555555 and parameters: {'classifier': 'RandomForest', 'rf_max_depth': 42, 'rf_min_samples_split': 15, 'rf_n_estimators': 107}. Best is trial 46 with value: 0.9930555555555555.\n",
      "[I 2023-12-06 10:51:18,895] Trial 75 finished with value: 0.9859633569739952 and parameters: {'classifier': 'RandomForest', 'rf_max_depth': 42, 'rf_min_samples_split': 15, 'rf_n_estimators': 105}. Best is trial 46 with value: 0.9930555555555555.\n",
      "[I 2023-12-06 10:51:19,025] Trial 76 finished with value: 0.9859633569739952 and parameters: {'classifier': 'RandomForest', 'rf_max_depth': 30, 'rf_min_samples_split': 18, 'rf_n_estimators': 67}. Best is trial 46 with value: 0.9930555555555555.\n",
      "[I 2023-12-06 10:51:19,241] Trial 77 finished with value: 0.9930555555555555 and parameters: {'classifier': 'RandomForest', 'rf_max_depth': 22, 'rf_min_samples_split': 10, 'rf_n_estimators': 116}. Best is trial 46 with value: 0.9930555555555555.\n",
      "[I 2023-12-06 10:51:19,423] Trial 78 finished with value: 0.9930555555555555 and parameters: {'classifier': 'RandomForest', 'rf_max_depth': 24, 'rf_min_samples_split': 9, 'rf_n_estimators': 92}. Best is trial 46 with value: 0.9930555555555555.\n",
      "[I 2023-12-06 10:51:19,650] Trial 79 finished with value: 0.9859633569739952 and parameters: {'classifier': 'RandomForest', 'rf_max_depth': 32, 'rf_min_samples_split': 11, 'rf_n_estimators': 120}. Best is trial 46 with value: 0.9930555555555555.\n",
      "[I 2023-12-06 10:51:19,790] Trial 80 finished with value: 0.9930555555555555 and parameters: {'classifier': 'RandomForest', 'rf_max_depth': 43, 'rf_min_samples_split': 13, 'rf_n_estimators': 75}. Best is trial 46 with value: 0.9930555555555555.\n",
      "[I 2023-12-06 10:51:19,984] Trial 81 finished with value: 0.9930555555555555 and parameters: {'classifier': 'RandomForest', 'rf_max_depth': 22, 'rf_min_samples_split': 9, 'rf_n_estimators': 98}. Best is trial 46 with value: 0.9930555555555555.\n",
      "[I 2023-12-06 10:51:20,155] Trial 82 finished with value: 0.9930555555555555 and parameters: {'classifier': 'RandomForest', 'rf_max_depth': 26, 'rf_min_samples_split': 9, 'rf_n_estimators': 92}. Best is trial 46 with value: 0.9930555555555555.\n",
      "[I 2023-12-06 10:51:20,360] Trial 83 finished with value: 0.9930555555555555 and parameters: {'classifier': 'RandomForest', 'rf_max_depth': 33, 'rf_min_samples_split': 7, 'rf_n_estimators': 120}. Best is trial 46 with value: 0.9930555555555555.\n",
      "[I 2023-12-06 10:51:20,643] Trial 84 finished with value: 0.9930555555555555 and parameters: {'classifier': 'RandomForest', 'rf_max_depth': 22, 'rf_min_samples_split': 10, 'rf_n_estimators': 163}. Best is trial 46 with value: 0.9930555555555555.\n",
      "[I 2023-12-06 10:51:20,815] Trial 85 finished with value: 0.9930555555555555 and parameters: {'classifier': 'RandomForest', 'rf_max_depth': 45, 'rf_min_samples_split': 15, 'rf_n_estimators': 91}. Best is trial 46 with value: 0.9930555555555555.\n",
      "[I 2023-12-06 10:51:21,020] Trial 86 finished with value: 0.9859633569739952 and parameters: {'classifier': 'RandomForest', 'rf_max_depth': 35, 'rf_min_samples_split': 17, 'rf_n_estimators': 122}. Best is trial 46 with value: 0.9930555555555555.\n",
      "[I 2023-12-06 10:51:21,324] Trial 87 finished with value: 0.9859633569739952 and parameters: {'classifier': 'RandomForest', 'rf_max_depth': 28, 'rf_min_samples_split': 13, 'rf_n_estimators': 177}. Best is trial 46 with value: 0.9930555555555555.\n",
      "[I 2023-12-06 10:51:21,452] Trial 88 finished with value: 0.9930555555555555 and parameters: {'classifier': 'RandomForest', 'rf_max_depth': 40, 'rf_min_samples_split': 11, 'rf_n_estimators': 65}. Best is trial 46 with value: 0.9930555555555555.\n",
      "[I 2023-12-06 10:51:21,502] Trial 89 finished with value: 0.922872340425532 and parameters: {'classifier': 'XGB', 'xgb_max_depth': 2, 'xgb_learning_rate': 0.0031695296043074933, 'xgb_n_estimators': 19, 'xgb_lambda': 20, 'xgb_gamma': 0.005616488441099454}. Best is trial 46 with value: 0.9930555555555555.\n",
      "[I 2023-12-06 10:51:21,688] Trial 90 finished with value: 0.9930555555555555 and parameters: {'classifier': 'RandomForest', 'rf_max_depth': 44, 'rf_min_samples_split': 8, 'rf_n_estimators': 102}. Best is trial 46 with value: 0.9930555555555555.\n",
      "[I 2023-12-06 10:51:21,848] Trial 91 finished with value: 0.9861111111111112 and parameters: {'classifier': 'RandomForest', 'rf_max_depth': 45, 'rf_min_samples_split': 13, 'rf_n_estimators': 79}. Best is trial 46 with value: 0.9930555555555555.\n",
      "[I 2023-12-06 10:51:22,009] Trial 92 finished with value: 0.9859633569739952 and parameters: {'classifier': 'RandomForest', 'rf_max_depth': 35, 'rf_min_samples_split': 12, 'rf_n_estimators': 77}. Best is trial 46 with value: 0.9930555555555555.\n",
      "[I 2023-12-06 10:51:22,259] Trial 93 finished with value: 0.9930555555555555 and parameters: {'classifier': 'RandomForest', 'rf_max_depth': 44, 'rf_min_samples_split': 16, 'rf_n_estimators': 134}. Best is trial 46 with value: 0.9930555555555555.\n",
      "[I 2023-12-06 10:51:22,379] Trial 94 finished with value: 0.9719267139479905 and parameters: {'classifier': 'RandomForest', 'rf_max_depth': 34, 'rf_min_samples_split': 14, 'rf_n_estimators': 46}. Best is trial 46 with value: 0.9930555555555555.\n",
      "[I 2023-12-06 10:51:22,617] Trial 95 finished with value: 0.9790189125295509 and parameters: {'classifier': 'RandomForest', 'rf_max_depth': 49, 'rf_min_samples_split': 19, 'rf_n_estimators': 115}. Best is trial 46 with value: 0.9930555555555555.\n",
      "[I 2023-12-06 10:51:22,946] Trial 96 finished with value: 0.9930555555555555 and parameters: {'classifier': 'RandomForest', 'rf_max_depth': 26, 'rf_min_samples_split': 11, 'rf_n_estimators': 175}. Best is trial 46 with value: 0.9930555555555555.\n",
      "[I 2023-12-06 10:51:23,098] Trial 97 finished with value: 0.9930555555555555 and parameters: {'classifier': 'RandomForest', 'rf_max_depth': 31, 'rf_min_samples_split': 10, 'rf_n_estimators': 69}. Best is trial 46 with value: 0.9930555555555555.\n",
      "[I 2023-12-06 10:51:23,371] Trial 98 finished with value: 0.9859633569739952 and parameters: {'classifier': 'RandomForest', 'rf_max_depth': 40, 'rf_min_samples_split': 12, 'rf_n_estimators': 142}. Best is trial 46 with value: 0.9930555555555555.\n",
      "[I 2023-12-06 10:51:23,534] Trial 99 finished with value: 0.9719267139479907 and parameters: {'classifier': 'RandomForest', 'rf_max_depth': 37, 'rf_min_samples_split': 22, 'rf_n_estimators': 89}. Best is trial 46 with value: 0.9930555555555555.\n"
     ]
    }
   ],
   "source": [
    "if __name__ == \"__main__\":\n",
    "  #Utilize Optuna to maximize the score. In this case it is maximizing accuracy\n",
    "  study = optuna.create_study(direction=\"maximize\") #direction is defaulted to minimize\n",
    "  study.optimize(objective, n_trials=100) #Pass in a callable function \"objective\" "
   ]
  },
  {
   "cell_type": "code",
   "execution_count": 26,
   "metadata": {},
   "outputs": [
    {
     "data": {
      "text/plain": [
       "{'classifier': 'RandomForest',\n",
       " 'rf_max_depth': 50,\n",
       " 'rf_min_samples_split': 16,\n",
       " 'rf_n_estimators': 126}"
      ]
     },
     "execution_count": 26,
     "metadata": {},
     "output_type": "execute_result"
    }
   ],
   "source": [
    "study.best_params"
   ]
  },
  {
   "cell_type": "code",
   "execution_count": 45,
   "metadata": {},
   "outputs": [],
   "source": [
    "tuned_model = RandomForestClassifier(max_depth=50, \n",
    "                                     min_samples_split=16,\n",
    "                                     n_estimators=126)"
   ]
  },
  {
   "cell_type": "code",
   "execution_count": 46,
   "metadata": {},
   "outputs": [],
   "source": [
    "history = tuned_model.fit(X_train, y_train)"
   ]
  },
  {
   "cell_type": "code",
   "execution_count": 47,
   "metadata": {},
   "outputs": [],
   "source": [
    "yhat = tuned_model.predict(X_test)"
   ]
  },
  {
   "cell_type": "code",
   "execution_count": 48,
   "metadata": {},
   "outputs": [
    {
     "data": {
      "text/plain": [
       "array([1, 1, 1, 1, 2, 1, 2, 0, 0, 2, 2, 2, 0, 1, 1, 0, 0, 2, 2, 2, 0, 1,\n",
       "       1, 2, 1, 2, 0, 0, 0, 1, 0, 2, 1, 1, 1, 1], dtype=int64)"
      ]
     },
     "execution_count": 48,
     "metadata": {},
     "output_type": "execute_result"
    }
   ],
   "source": [
    "yhat"
   ]
  },
  {
   "cell_type": "code",
   "execution_count": 49,
   "metadata": {},
   "outputs": [
    {
     "data": {
      "text/plain": [
       "array([1, 1, 1, 1, 2, 1, 2, 0, 0, 2, 2, 1, 0, 1, 1, 0, 0, 2, 2, 2, 0, 1,\n",
       "       1, 2, 1, 2, 0, 0, 0, 1, 0, 1, 1, 1, 1, 1], dtype=int64)"
      ]
     },
     "execution_count": 49,
     "metadata": {},
     "output_type": "execute_result"
    }
   ],
   "source": [
    "y_test"
   ]
  },
  {
   "cell_type": "code",
   "execution_count": 50,
   "metadata": {},
   "outputs": [
    {
     "name": "stdout",
     "output_type": "stream",
     "text": [
      "Accuracy: 0.9444444444444444\n"
     ]
    }
   ],
   "source": [
    "print(f\"Accuracy: {accuracy_score(y_test, yhat)}\")"
   ]
  },
  {
   "cell_type": "code",
   "execution_count": null,
   "metadata": {},
   "outputs": [],
   "source": []
  }
 ],
 "metadata": {
  "kernelspec": {
   "display_name": "Python 3",
   "language": "python",
   "name": "python3"
  },
  "language_info": {
   "codemirror_mode": {
    "name": "ipython",
    "version": 3
   },
   "file_extension": ".py",
   "mimetype": "text/x-python",
   "name": "python",
   "nbconvert_exporter": "python",
   "pygments_lexer": "ipython3",
   "version": "3.11.5"
  }
 },
 "nbformat": 4,
 "nbformat_minor": 2
}
