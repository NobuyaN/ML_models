{
 "cells": [
  {
   "cell_type": "code",
   "execution_count": 1,
   "metadata": {},
   "outputs": [
    {
     "name": "stderr",
     "output_type": "stream",
     "text": [
      "c:\\Users\\nishi\\AppData\\Local\\Programs\\Python\\Python311\\Lib\\site-packages\\tqdm\\auto.py:21: TqdmWarning: IProgress not found. Please update jupyter and ipywidgets. See https://ipywidgets.readthedocs.io/en/stable/user_install.html\n",
      "  from .autonotebook import tqdm as notebook_tqdm\n"
     ]
    }
   ],
   "source": [
    "import pandas as pd\n",
    "from xgboost import XGBClassifier\n",
    "from sklearn.model_selection import train_test_split, cross_val_score\n",
    "from sklearn.preprocessing import StandardScaler, LabelEncoder\n",
    "from sklearn.ensemble import RandomForestClassifier\n",
    "from sklearn.metrics import accuracy_score\n",
    "import optuna\n",
    "\n",
    "RANDOM_STATE = 1234"
   ]
  },
  {
   "cell_type": "code",
   "execution_count": 2,
   "metadata": {},
   "outputs": [],
   "source": [
    "columns = [\"class\", \"Alcohol\", \"Malicacid\", \"Ash\", \"Alcalinity_of_ash\", \"Magnesium\", \n",
    "           \"Total_phenols\", \"Flavanoids\", \"Nonflavanoid_phenols\", \"Proanthocyanins\", \n",
    "           \"Color_intensity\", \"Hue\", \"0D280_0D315_of_diluted_wines\", \"Proline\"]\n",
    "df = pd.read_csv(\"D:/Work/wine/wine/wine.data\", names=columns)"
   ]
  },
  {
   "cell_type": "code",
   "execution_count": 3,
   "metadata": {},
   "outputs": [
    {
     "data": {
      "text/plain": [
       "array([0, 0, 0, 0, 0, 0, 0, 0, 0, 0, 0, 0, 0, 0], dtype=int64)"
      ]
     },
     "execution_count": 3,
     "metadata": {},
     "output_type": "execute_result"
    }
   ],
   "source": [
    "df.isnull().sum().values"
   ]
  },
  {
   "cell_type": "code",
   "execution_count": 4,
   "metadata": {},
   "outputs": [],
   "source": [
    "numerical_cols = columns[1:]\n",
    "df[numerical_cols] = StandardScaler().fit_transform(df[numerical_cols])"
   ]
  },
  {
   "cell_type": "code",
   "execution_count": 5,
   "metadata": {},
   "outputs": [],
   "source": [
    "X = df.drop(['class'], axis=1)\n",
    "y = df['class']\n",
    "le = LabelEncoder()\n",
    "y = le.fit_transform(y)"
   ]
  },
  {
   "cell_type": "code",
   "execution_count": 6,
   "metadata": {},
   "outputs": [
    {
     "name": "stdout",
     "output_type": "stream",
     "text": [
      "X_train: (142, 13), y_train: (142,)\n",
      "X_test: (36, 13), y_test: (36,)\n"
     ]
    }
   ],
   "source": [
    "X_train, X_test, y_train, y_test = train_test_split(X, y, train_size=0.8, random_state=RANDOM_STATE)\n",
    "\n",
    "print(f\"X_train: {X_train.shape}, y_train: {y_train.shape}\")\n",
    "print(f\"X_test: {X_test.shape}, y_test: {y_test.shape}\")"
   ]
  },
  {
   "cell_type": "code",
   "execution_count": 7,
   "metadata": {},
   "outputs": [],
   "source": [
    "def objective(trial):\n",
    "  model_name = trial.suggest_categorical(\"classifier\", [\"SVC\", \"RandomForest\"])\n",
    "  if model_name == \"SVC\":\n",
    "    xgb_max_depth = trial.suggest_int(\"xgb_max_depth\", 1, 50, log=True)\n",
    "    xgb_learning_rate = trial.suggest_float(\"xgb_learning_rate\", 1e-5, 1, log=True)\n",
    "    xgb_n_estimators = trial.suggest_int(\"xgb_n_estimators\", 5, 200, log=True)\n",
    "    xgb_lambda = trial.suggest_int(\"xgb_lambda\", 1, 100, log=True)\n",
    "    xgb_gamma = trial.suggest_float(\"xgb_gamma\", 0.001, 1, log=True)\n",
    "    model = XGBClassifier(max_depth=xgb_max_depth,\n",
    "                              learning_rate=xgb_learning_rate,\n",
    "                              n_estimators=xgb_n_estimators, \n",
    "                              gamma=xgb_gamma,\n",
    "                              reg_lambda=xgb_lambda)\n",
    "  else:\n",
    "    rf_max_depth = trial.suggest_int(\"rf_max_depth\", 1, 50, log=True)\n",
    "    rf_min_samples_split = trial.suggest_int(\"rf_min_samples_split\", 2, 30, log=True)\n",
    "    rf_n_estimators = trial.suggest_int(\"rf_n_estimators\", 1, 200, log=True)\n",
    "    model = RandomForestClassifier(max_depth=rf_max_depth,\n",
    "                                      n_estimators=rf_n_estimators,\n",
    "                                      min_samples_split=rf_min_samples_split)\n",
    "\n",
    "  #Score is a array of accuracy for cross validation set (Kfold)\n",
    "  score = cross_val_score(model, X_train, y_train, n_jobs=10, cv=3)\n",
    "  #Take the mean of the score array for all of the cross validation\n",
    "  accuracy = score.mean() \n",
    "  \n",
    "  return accuracy\n"
   ]
  },
  {
   "cell_type": "code",
   "execution_count": 8,
   "metadata": {},
   "outputs": [
    {
     "name": "stderr",
     "output_type": "stream",
     "text": [
      "[I 2023-12-05 21:28:26,365] A new study created in memory with name: no-name-3759404e-94b7-45b3-b965-d7a00103fc12\n",
      "[I 2023-12-05 21:28:28,546] Trial 0 finished with value: 0.95774231678487 and parameters: {'classifier': 'SVC', 'xgb_max_depth': 39, 'xgb_learning_rate': 0.023160843459821903, 'xgb_n_estimators': 186, 'xgb_lambda': 8, 'xgb_gamma': 0.06364912859046934}. Best is trial 0 with value: 0.95774231678487.\n",
      "[I 2023-12-05 21:28:29,665] Trial 1 finished with value: 0.9086879432624113 and parameters: {'classifier': 'SVC', 'xgb_max_depth': 6, 'xgb_learning_rate': 0.00040467407122206595, 'xgb_n_estimators': 36, 'xgb_lambda': 1, 'xgb_gamma': 0.008017803942191157}. Best is trial 0 with value: 0.95774231678487.\n",
      "[I 2023-12-05 21:28:30,858] Trial 2 finished with value: 0.9719267139479907 and parameters: {'classifier': 'RandomForest', 'rf_max_depth': 2, 'rf_min_samples_split': 14, 'rf_n_estimators': 26}. Best is trial 2 with value: 0.9719267139479907.\n",
      "[I 2023-12-05 21:28:31,720] Trial 3 finished with value: 0.8877068557919622 and parameters: {'classifier': 'SVC', 'xgb_max_depth': 1, 'xgb_learning_rate': 0.0008290499085916659, 'xgb_n_estimators': 65, 'xgb_lambda': 32, 'xgb_gamma': 0.016915088153311324}. Best is trial 2 with value: 0.9719267139479907.\n",
      "[I 2023-12-05 21:28:31,783] Trial 4 finished with value: 0.9156323877068558 and parameters: {'classifier': 'SVC', 'xgb_max_depth': 2, 'xgb_learning_rate': 0.00013745391621435227, 'xgb_n_estimators': 83, 'xgb_lambda': 1, 'xgb_gamma': 0.006166416965777293}. Best is trial 2 with value: 0.9719267139479907.\n",
      "[I 2023-12-05 21:28:31,929] Trial 5 finished with value: 0.9157801418439716 and parameters: {'classifier': 'SVC', 'xgb_max_depth': 26, 'xgb_learning_rate': 5.501115794068957e-05, 'xgb_n_estimators': 19, 'xgb_lambda': 2, 'xgb_gamma': 0.1455152623732837}. Best is trial 2 with value: 0.9719267139479907.\n",
      "[I 2023-12-05 21:28:32,053] Trial 6 finished with value: 0.9506501182033098 and parameters: {'classifier': 'RandomForest', 'rf_max_depth': 29, 'rf_min_samples_split': 2, 'rf_n_estimators': 6}. Best is trial 2 with value: 0.9719267139479907.\n",
      "[I 2023-12-05 21:28:32,179] Trial 7 finished with value: 0.7830969267139481 and parameters: {'classifier': 'RandomForest', 'rf_max_depth': 9, 'rf_min_samples_split': 22, 'rf_n_estimators': 1}. Best is trial 2 with value: 0.9719267139479907.\n",
      "[I 2023-12-05 21:28:32,302] Trial 8 finished with value: 0.8872635933806148 and parameters: {'classifier': 'RandomForest', 'rf_max_depth': 2, 'rf_min_samples_split': 2, 'rf_n_estimators': 2}. Best is trial 2 with value: 0.9719267139479907.\n",
      "[I 2023-12-05 21:28:32,539] Trial 9 finished with value: 0.9859633569739952 and parameters: {'classifier': 'RandomForest', 'rf_max_depth': 17, 'rf_min_samples_split': 12, 'rf_n_estimators': 137}. Best is trial 9 with value: 0.9859633569739952.\n",
      "[I 2023-12-05 21:28:32,866] Trial 10 finished with value: 0.9859633569739952 and parameters: {'classifier': 'RandomForest', 'rf_max_depth': 42, 'rf_min_samples_split': 8, 'rf_n_estimators': 174}. Best is trial 9 with value: 0.9859633569739952.\n",
      "[I 2023-12-05 21:28:33,113] Trial 11 finished with value: 0.9859633569739952 and parameters: {'classifier': 'RandomForest', 'rf_max_depth': 37, 'rf_min_samples_split': 8, 'rf_n_estimators': 136}. Best is trial 9 with value: 0.9859633569739952.\n",
      "[I 2023-12-05 21:28:33,461] Trial 12 finished with value: 0.9859633569739952 and parameters: {'classifier': 'RandomForest', 'rf_max_depth': 15, 'rf_min_samples_split': 7, 'rf_n_estimators': 181}. Best is trial 9 with value: 0.9859633569739952.\n",
      "[I 2023-12-05 21:28:33,590] Trial 13 finished with value: 0.9930555555555555 and parameters: {'classifier': 'RandomForest', 'rf_max_depth': 38, 'rf_min_samples_split': 12, 'rf_n_estimators': 55}. Best is trial 13 with value: 0.9930555555555555.\n",
      "[I 2023-12-05 21:28:33,683] Trial 14 finished with value: 0.9859633569739952 and parameters: {'classifier': 'RandomForest', 'rf_max_depth': 12, 'rf_min_samples_split': 18, 'rf_n_estimators': 39}. Best is trial 13 with value: 0.9930555555555555.\n",
      "[I 2023-12-05 21:28:33,777] Trial 15 finished with value: 0.9930555555555555 and parameters: {'classifier': 'RandomForest', 'rf_max_depth': 6, 'rf_min_samples_split': 13, 'rf_n_estimators': 39}. Best is trial 13 with value: 0.9930555555555555.\n",
      "[I 2023-12-05 21:28:33,859] Trial 16 finished with value: 0.9859633569739952 and parameters: {'classifier': 'RandomForest', 'rf_max_depth': 5, 'rf_min_samples_split': 23, 'rf_n_estimators': 35}. Best is trial 13 with value: 0.9930555555555555.\n",
      "[I 2023-12-05 21:28:33,909] Trial 17 finished with value: 0.9790189125295509 and parameters: {'classifier': 'RandomForest', 'rf_max_depth': 1, 'rf_min_samples_split': 29, 'rf_n_estimators': 13}. Best is trial 13 with value: 0.9930555555555555.\n",
      "[I 2023-12-05 21:28:34,045] Trial 18 finished with value: 0.9859633569739952 and parameters: {'classifier': 'RandomForest', 'rf_max_depth': 6, 'rf_min_samples_split': 12, 'rf_n_estimators': 66}. Best is trial 13 with value: 0.9930555555555555.\n",
      "[I 2023-12-05 21:28:34,096] Trial 19 finished with value: 0.9790189125295509 and parameters: {'classifier': 'RandomForest', 'rf_max_depth': 24, 'rf_min_samples_split': 4, 'rf_n_estimators': 14}. Best is trial 13 with value: 0.9930555555555555.\n",
      "[I 2023-12-05 21:28:34,233] Trial 20 finished with value: 0.9930555555555555 and parameters: {'classifier': 'RandomForest', 'rf_max_depth': 49, 'rf_min_samples_split': 5, 'rf_n_estimators': 66}. Best is trial 13 with value: 0.9930555555555555.\n",
      "[I 2023-12-05 21:28:34,385] Trial 21 finished with value: 0.9859633569739952 and parameters: {'classifier': 'RandomForest', 'rf_max_depth': 47, 'rf_min_samples_split': 5, 'rf_n_estimators': 68}. Best is trial 13 with value: 0.9930555555555555.\n",
      "[I 2023-12-05 21:28:34,557] Trial 22 finished with value: 0.9861111111111112 and parameters: {'classifier': 'RandomForest', 'rf_max_depth': 23, 'rf_min_samples_split': 10, 'rf_n_estimators': 78}. Best is trial 13 with value: 0.9930555555555555.\n",
      "[I 2023-12-05 21:28:34,631] Trial 23 finished with value: 0.9930555555555555 and parameters: {'classifier': 'RandomForest', 'rf_max_depth': 49, 'rf_min_samples_split': 15, 'rf_n_estimators': 22}. Best is trial 13 with value: 0.9930555555555555.\n",
      "[I 2023-12-05 21:28:34,761] Trial 24 finished with value: 0.9861111111111112 and parameters: {'classifier': 'RandomForest', 'rf_max_depth': 26, 'rf_min_samples_split': 5, 'rf_n_estimators': 57}. Best is trial 13 with value: 0.9930555555555555.\n",
      "[I 2023-12-05 21:28:34,855] Trial 25 finished with value: 0.9861111111111112 and parameters: {'classifier': 'RandomForest', 'rf_max_depth': 50, 'rf_min_samples_split': 10, 'rf_n_estimators': 38}. Best is trial 13 with value: 0.9930555555555555.\n",
      "[I 2023-12-05 21:28:34,901] Trial 26 finished with value: 0.95774231678487 and parameters: {'classifier': 'SVC', 'xgb_max_depth': 7, 'xgb_learning_rate': 0.8358850583007873, 'xgb_n_estimators': 7, 'xgb_lambda': 86, 'xgb_gamma': 0.9058167892713502}. Best is trial 13 with value: 0.9930555555555555.\n",
      "[I 2023-12-05 21:28:35,093] Trial 27 finished with value: 0.9859633569739952 and parameters: {'classifier': 'RandomForest', 'rf_max_depth': 19, 'rf_min_samples_split': 16, 'rf_n_estimators': 90}. Best is trial 13 with value: 0.9930555555555555.\n",
      "[I 2023-12-05 21:28:35,167] Trial 28 finished with value: 0.9859633569739952 and parameters: {'classifier': 'RandomForest', 'rf_max_depth': 31, 'rf_min_samples_split': 10, 'rf_n_estimators': 21}. Best is trial 13 with value: 0.9930555555555555.\n",
      "[I 2023-12-05 21:28:35,247] Trial 29 finished with value: 0.9018912529550828 and parameters: {'classifier': 'SVC', 'xgb_max_depth': 1, 'xgb_learning_rate': 1.0350518851551283e-05, 'xgb_n_estimators': 5, 'xgb_lambda': 6, 'xgb_gamma': 0.0014552855280093977}. Best is trial 13 with value: 0.9930555555555555.\n",
      "[I 2023-12-05 21:28:35,351] Trial 30 finished with value: 0.9930555555555555 and parameters: {'classifier': 'RandomForest', 'rf_max_depth': 11, 'rf_min_samples_split': 6, 'rf_n_estimators': 46}. Best is trial 13 with value: 0.9930555555555555.\n",
      "[I 2023-12-05 21:28:35,417] Trial 31 finished with value: 0.9859633569739952 and parameters: {'classifier': 'RandomForest', 'rf_max_depth': 50, 'rf_min_samples_split': 17, 'rf_n_estimators': 23}. Best is trial 13 with value: 0.9930555555555555.\n",
      "[I 2023-12-05 21:28:35,589] Trial 32 finished with value: 0.9930555555555555 and parameters: {'classifier': 'RandomForest', 'rf_max_depth': 31, 'rf_min_samples_split': 14, 'rf_n_estimators': 90}. Best is trial 13 with value: 0.9930555555555555.\n",
      "[I 2023-12-05 21:28:35,651] Trial 33 finished with value: 0.9859633569739952 and parameters: {'classifier': 'RandomForest', 'rf_max_depth': 35, 'rf_min_samples_split': 21, 'rf_n_estimators': 24}. Best is trial 13 with value: 0.9930555555555555.\n",
      "[I 2023-12-05 21:28:35,700] Trial 34 finished with value: 0.922872340425532 and parameters: {'classifier': 'SVC', 'xgb_max_depth': 13, 'xgb_learning_rate': 0.007424068873432205, 'xgb_n_estimators': 14, 'xgb_lambda': 17, 'xgb_gamma': 0.0010880132297359777}. Best is trial 13 with value: 0.9930555555555555.\n",
      "[I 2023-12-05 21:28:35,828] Trial 35 finished with value: 0.9930555555555555 and parameters: {'classifier': 'RandomForest', 'rf_max_depth': 20, 'rf_min_samples_split': 13, 'rf_n_estimators': 52}. Best is trial 13 with value: 0.9930555555555555.\n",
      "[I 2023-12-05 21:28:35,884] Trial 36 finished with value: 0.9299645390070922 and parameters: {'classifier': 'SVC', 'xgb_max_depth': 3, 'xgb_learning_rate': 0.07438833236448737, 'xgb_n_estimators': 11, 'xgb_lambda': 88, 'xgb_gamma': 0.345812672257124}. Best is trial 13 with value: 0.9930555555555555.\n",
      "[I 2023-12-05 21:28:35,934] Trial 37 finished with value: 0.95774231678487 and parameters: {'classifier': 'RandomForest', 'rf_max_depth': 50, 'rf_min_samples_split': 17, 'rf_n_estimators': 8}. Best is trial 13 with value: 0.9930555555555555.\n",
      "[I 2023-12-05 21:28:36,028] Trial 38 finished with value: 0.9859633569739952 and parameters: {'classifier': 'RandomForest', 'rf_max_depth': 35, 'rf_min_samples_split': 11, 'rf_n_estimators': 35}. Best is trial 13 with value: 0.9930555555555555.\n",
      "[I 2023-12-05 21:28:36,095] Trial 39 finished with value: 0.9157801418439716 and parameters: {'classifier': 'SVC', 'xgb_max_depth': 50, 'xgb_learning_rate': 0.0019298584834908825, 'xgb_n_estimators': 27, 'xgb_lambda': 3, 'xgb_gamma': 0.045550418668177224}. Best is trial 13 with value: 0.9930555555555555.\n",
      "[I 2023-12-05 21:28:36,157] Trial 40 finished with value: 0.9790189125295509 and parameters: {'classifier': 'RandomForest', 'rf_max_depth': 28, 'rf_min_samples_split': 14, 'rf_n_estimators': 18}. Best is trial 13 with value: 0.9930555555555555.\n",
      "[I 2023-12-05 21:28:36,262] Trial 41 finished with value: 0.9930555555555555 and parameters: {'classifier': 'RandomForest', 'rf_max_depth': 11, 'rf_min_samples_split': 8, 'rf_n_estimators': 46}. Best is trial 13 with value: 0.9930555555555555.\n",
      "[I 2023-12-05 21:28:36,345] Trial 42 finished with value: 0.9930555555555555 and parameters: {'classifier': 'RandomForest', 'rf_max_depth': 7, 'rf_min_samples_split': 6, 'rf_n_estimators': 28}. Best is trial 13 with value: 0.9930555555555555.\n",
      "[I 2023-12-05 21:28:36,461] Trial 43 finished with value: 0.9859633569739952 and parameters: {'classifier': 'RandomForest', 'rf_max_depth': 14, 'rf_min_samples_split': 4, 'rf_n_estimators': 53}. Best is trial 13 with value: 0.9930555555555555.\n",
      "[I 2023-12-05 21:28:36,545] Trial 44 finished with value: 0.9790189125295509 and parameters: {'classifier': 'RandomForest', 'rf_max_depth': 4, 'rf_min_samples_split': 9, 'rf_n_estimators': 34}. Best is trial 13 with value: 0.9930555555555555.\n",
      "[I 2023-12-05 21:28:36,726] Trial 45 finished with value: 0.9859633569739952 and parameters: {'classifier': 'RandomForest', 'rf_max_depth': 8, 'rf_min_samples_split': 14, 'rf_n_estimators': 97}. Best is trial 13 with value: 0.9930555555555555.\n",
      "[I 2023-12-05 21:28:36,810] Trial 46 finished with value: 0.9930555555555555 and parameters: {'classifier': 'RandomForest', 'rf_max_depth': 20, 'rf_min_samples_split': 12, 'rf_n_estimators': 28}. Best is trial 13 with value: 0.9930555555555555.\n",
      "[I 2023-12-05 21:28:36,917] Trial 47 finished with value: 0.9930555555555555 and parameters: {'classifier': 'RandomForest', 'rf_max_depth': 37, 'rf_min_samples_split': 6, 'rf_n_estimators': 51}. Best is trial 13 with value: 0.9930555555555555.\n",
      "[I 2023-12-05 21:28:37,132] Trial 48 finished with value: 0.9930555555555555 and parameters: {'classifier': 'RandomForest', 'rf_max_depth': 10, 'rf_min_samples_split': 9, 'rf_n_estimators': 110}. Best is trial 13 with value: 0.9930555555555555.\n",
      "[I 2023-12-05 21:28:37,273] Trial 49 finished with value: 0.9859633569739952 and parameters: {'classifier': 'RandomForest', 'rf_max_depth': 42, 'rf_min_samples_split': 7, 'rf_n_estimators': 65}. Best is trial 13 with value: 0.9930555555555555.\n",
      "[I 2023-12-05 21:28:37,317] Trial 50 finished with value: 0.95774231678487 and parameters: {'classifier': 'SVC', 'xgb_max_depth': 18, 'xgb_learning_rate': 0.7093465230786345, 'xgb_n_estimators': 8, 'xgb_lambda': 25, 'xgb_gamma': 0.1314008609898735}. Best is trial 13 with value: 0.9930555555555555.\n",
      "[I 2023-12-05 21:28:37,499] Trial 51 finished with value: 0.9859633569739952 and parameters: {'classifier': 'RandomForest', 'rf_max_depth': 28, 'rf_min_samples_split': 15, 'rf_n_estimators': 105}. Best is trial 13 with value: 0.9930555555555555.\n",
      "[I 2023-12-05 21:28:37,593] Trial 52 finished with value: 0.9930555555555555 and parameters: {'classifier': 'RandomForest', 'rf_max_depth': 33, 'rf_min_samples_split': 14, 'rf_n_estimators': 43}. Best is trial 13 with value: 0.9930555555555555.\n",
      "[I 2023-12-05 21:28:37,731] Trial 53 finished with value: 0.9859633569739952 and parameters: {'classifier': 'RandomForest', 'rf_max_depth': 16, 'rf_min_samples_split': 11, 'rf_n_estimators': 79}. Best is trial 13 with value: 0.9930555555555555.\n",
      "[I 2023-12-05 21:28:37,958] Trial 54 finished with value: 0.9859633569739952 and parameters: {'classifier': 'RandomForest', 'rf_max_depth': 39, 'rf_min_samples_split': 19, 'rf_n_estimators': 143}. Best is trial 13 with value: 0.9930555555555555.\n",
      "[I 2023-12-05 21:28:38,304] Trial 55 finished with value: 0.9859633569739952 and parameters: {'classifier': 'RandomForest', 'rf_max_depth': 30, 'rf_min_samples_split': 15, 'rf_n_estimators': 200}. Best is trial 13 with value: 0.9930555555555555.\n",
      "[I 2023-12-05 21:28:38,433] Trial 56 finished with value: 0.9930555555555555 and parameters: {'classifier': 'RandomForest', 'rf_max_depth': 13, 'rf_min_samples_split': 19, 'rf_n_estimators': 74}. Best is trial 13 with value: 0.9930555555555555.\n",
      "[I 2023-12-05 21:28:38,662] Trial 57 finished with value: 0.9859633569739952 and parameters: {'classifier': 'RandomForest', 'rf_max_depth': 42, 'rf_min_samples_split': 24, 'rf_n_estimators': 129}. Best is trial 13 with value: 0.9930555555555555.\n",
      "[I 2023-12-05 21:28:38,737] Trial 58 finished with value: 0.9859633569739952 and parameters: {'classifier': 'RandomForest', 'rf_max_depth': 23, 'rf_min_samples_split': 17, 'rf_n_estimators': 30}. Best is trial 13 with value: 0.9930555555555555.\n",
      "[I 2023-12-05 21:28:38,834] Trial 59 finished with value: 0.9930555555555555 and parameters: {'classifier': 'RandomForest', 'rf_max_depth': 41, 'rf_min_samples_split': 13, 'rf_n_estimators': 41}. Best is trial 13 with value: 0.9930555555555555.\n",
      "[I 2023-12-05 21:28:38,975] Trial 60 finished with value: 0.9859633569739952 and parameters: {'classifier': 'RandomForest', 'rf_max_depth': 25, 'rf_min_samples_split': 12, 'rf_n_estimators': 69}. Best is trial 13 with value: 0.9930555555555555.\n",
      "[I 2023-12-05 21:28:39,081] Trial 61 finished with value: 0.9930555555555555 and parameters: {'classifier': 'RandomForest', 'rf_max_depth': 16, 'rf_min_samples_split': 13, 'rf_n_estimators': 54}. Best is trial 13 with value: 0.9930555555555555.\n",
      "[I 2023-12-05 21:28:39,186] Trial 62 finished with value: 0.9930555555555555 and parameters: {'classifier': 'RandomForest', 'rf_max_depth': 20, 'rf_min_samples_split': 15, 'rf_n_estimators': 55}. Best is trial 13 with value: 0.9930555555555555.\n",
      "[I 2023-12-05 21:28:39,292] Trial 63 finished with value: 0.9859633569739952 and parameters: {'classifier': 'RandomForest', 'rf_max_depth': 32, 'rf_min_samples_split': 13, 'rf_n_estimators': 45}. Best is trial 13 with value: 0.9930555555555555.\n",
      "[I 2023-12-05 21:28:39,463] Trial 64 finished with value: 0.9930555555555555 and parameters: {'classifier': 'RandomForest', 'rf_max_depth': 19, 'rf_min_samples_split': 16, 'rf_n_estimators': 85}. Best is trial 13 with value: 0.9930555555555555.\n",
      "[I 2023-12-05 21:28:39,562] Trial 65 finished with value: 0.978871158392435 and parameters: {'classifier': 'RandomForest', 'rf_max_depth': 41, 'rf_min_samples_split': 21, 'rf_n_estimators': 18}. Best is trial 13 with value: 0.9930555555555555.\n",
      "[I 2023-12-05 21:28:39,691] Trial 66 finished with value: 0.9930555555555555 and parameters: {'classifier': 'RandomForest', 'rf_max_depth': 24, 'rf_min_samples_split': 11, 'rf_n_estimators': 32}. Best is trial 13 with value: 0.9930555555555555.\n",
      "[I 2023-12-05 21:28:39,750] Trial 67 finished with value: 0.9086879432624113 and parameters: {'classifier': 'SVC', 'xgb_max_depth': 10, 'xgb_learning_rate': 0.0023908755767901267, 'xgb_n_estimators': 5, 'xgb_lambda': 1, 'xgb_gamma': 0.9833666299449118}. Best is trial 13 with value: 0.9930555555555555.\n",
      "[I 2023-12-05 21:28:39,896] Trial 68 finished with value: 0.9930555555555555 and parameters: {'classifier': 'RandomForest', 'rf_max_depth': 30, 'rf_min_samples_split': 8, 'rf_n_estimators': 61}. Best is trial 13 with value: 0.9930555555555555.\n",
      "[I 2023-12-05 21:28:40,005] Trial 69 finished with value: 0.9930555555555555 and parameters: {'classifier': 'RandomForest', 'rf_max_depth': 50, 'rf_min_samples_split': 18, 'rf_n_estimators': 40}. Best is trial 13 with value: 0.9930555555555555.\n",
      "[I 2023-12-05 21:28:40,190] Trial 70 finished with value: 0.9859633569739952 and parameters: {'classifier': 'RandomForest', 'rf_max_depth': 35, 'rf_min_samples_split': 16, 'rf_n_estimators': 88}. Best is trial 13 with value: 0.9930555555555555.\n",
      "[I 2023-12-05 21:28:40,297] Trial 71 finished with value: 0.9859633569739952 and parameters: {'classifier': 'RandomForest', 'rf_max_depth': 12, 'rf_min_samples_split': 8, 'rf_n_estimators': 47}. Best is trial 13 with value: 0.9930555555555555.\n",
      "[I 2023-12-05 21:28:40,464] Trial 72 finished with value: 0.9930555555555555 and parameters: {'classifier': 'RandomForest', 'rf_max_depth': 9, 'rf_min_samples_split': 11, 'rf_n_estimators': 63}. Best is trial 13 with value: 0.9930555555555555.\n",
      "[I 2023-12-05 21:28:40,583] Trial 73 finished with value: 0.9930555555555555 and parameters: {'classifier': 'RandomForest', 'rf_max_depth': 11, 'rf_min_samples_split': 5, 'rf_n_estimators': 44}. Best is trial 13 with value: 0.9930555555555555.\n",
      "[I 2023-12-05 21:28:40,672] Trial 74 finished with value: 0.9930555555555555 and parameters: {'classifier': 'RandomForest', 'rf_max_depth': 15, 'rf_min_samples_split': 9, 'rf_n_estimators': 34}. Best is trial 13 with value: 0.9930555555555555.\n",
      "[I 2023-12-05 21:28:40,745] Trial 75 finished with value: 0.9719267139479905 and parameters: {'classifier': 'RandomForest', 'rf_max_depth': 6, 'rf_min_samples_split': 13, 'rf_n_estimators': 25}. Best is trial 13 with value: 0.9930555555555555.\n",
      "[I 2023-12-05 21:28:40,889] Trial 76 finished with value: 0.9930555555555555 and parameters: {'classifier': 'RandomForest', 'rf_max_depth': 13, 'rf_min_samples_split': 4, 'rf_n_estimators': 52}. Best is trial 13 with value: 0.9930555555555555.\n",
      "[I 2023-12-05 21:28:41,029] Trial 77 finished with value: 0.9717789598108747 and parameters: {'classifier': 'SVC', 'xgb_max_depth': 3, 'xgb_learning_rate': 0.1094764357418371, 'xgb_n_estimators': 187, 'xgb_lambda': 4, 'xgb_gamma': 0.024349877546586626}. Best is trial 13 with value: 0.9930555555555555.\n",
      "[I 2023-12-05 21:28:41,192] Trial 78 finished with value: 0.9930555555555555 and parameters: {'classifier': 'RandomForest', 'rf_max_depth': 27, 'rf_min_samples_split': 10, 'rf_n_estimators': 70}. Best is trial 13 with value: 0.9930555555555555.\n",
      "[I 2023-12-05 21:28:41,290] Trial 79 finished with value: 0.9859633569739952 and parameters: {'classifier': 'RandomForest', 'rf_max_depth': 18, 'rf_min_samples_split': 12, 'rf_n_estimators': 38}. Best is trial 13 with value: 0.9930555555555555.\n",
      "[I 2023-12-05 21:28:41,389] Trial 80 finished with value: 0.9859633569739952 and parameters: {'classifier': 'RandomForest', 'rf_max_depth': 45, 'rf_min_samples_split': 6, 'rf_n_estimators': 30}. Best is trial 13 with value: 0.9930555555555555.\n",
      "[I 2023-12-05 21:28:41,511] Trial 81 finished with value: 0.9930555555555555 and parameters: {'classifier': 'RandomForest', 'rf_max_depth': 8, 'rf_min_samples_split': 6, 'rf_n_estimators': 50}. Best is trial 13 with value: 0.9930555555555555.\n",
      "[I 2023-12-05 21:28:41,596] Trial 82 finished with value: 0.9859633569739952 and parameters: {'classifier': 'RandomForest', 'rf_max_depth': 36, 'rf_min_samples_split': 7, 'rf_n_estimators': 27}. Best is trial 13 with value: 0.9930555555555555.\n",
      "[I 2023-12-05 21:28:41,660] Trial 83 finished with value: 0.9859633569739952 and parameters: {'classifier': 'RandomForest', 'rf_max_depth': 46, 'rf_min_samples_split': 5, 'rf_n_estimators': 19}. Best is trial 13 with value: 0.9930555555555555.\n",
      "[I 2023-12-05 21:28:41,748] Trial 84 finished with value: 0.9859633569739952 and parameters: {'classifier': 'RandomForest', 'rf_max_depth': 7, 'rf_min_samples_split': 15, 'rf_n_estimators': 22}. Best is trial 13 with value: 0.9930555555555555.\n",
      "[I 2023-12-05 21:28:41,885] Trial 85 finished with value: 0.9859633569739952 and parameters: {'classifier': 'RandomForest', 'rf_max_depth': 10, 'rf_min_samples_split': 14, 'rf_n_estimators': 62}. Best is trial 13 with value: 0.9930555555555555.\n",
      "[I 2023-12-05 21:28:41,983] Trial 86 finished with value: 0.9930555555555555 and parameters: {'classifier': 'RandomForest', 'rf_max_depth': 22, 'rf_min_samples_split': 10, 'rf_n_estimators': 36}. Best is trial 13 with value: 0.9930555555555555.\n",
      "[I 2023-12-05 21:28:42,145] Trial 87 finished with value: 0.9859633569739952 and parameters: {'classifier': 'RandomForest', 'rf_max_depth': 5, 'rf_min_samples_split': 7, 'rf_n_estimators': 76}. Best is trial 13 with value: 0.9930555555555555.\n",
      "[I 2023-12-05 21:28:42,232] Trial 88 finished with value: 0.9859633569739952 and parameters: {'classifier': 'RandomForest', 'rf_max_depth': 32, 'rf_min_samples_split': 9, 'rf_n_estimators': 28}. Best is trial 13 with value: 0.9930555555555555.\n",
      "[I 2023-12-05 21:28:42,299] Trial 89 finished with value: 0.9157801418439716 and parameters: {'classifier': 'SVC', 'xgb_max_depth': 19, 'xgb_learning_rate': 0.008577830585241367, 'xgb_n_estimators': 19, 'xgb_lambda': 2, 'xgb_gamma': 0.003032910772448768}. Best is trial 13 with value: 0.9930555555555555.\n",
      "[I 2023-12-05 21:28:42,408] Trial 90 finished with value: 0.9859633569739952 and parameters: {'classifier': 'RandomForest', 'rf_max_depth': 27, 'rf_min_samples_split': 13, 'rf_n_estimators': 46}. Best is trial 13 with value: 0.9930555555555555.\n",
      "[I 2023-12-05 21:28:42,507] Trial 91 finished with value: 0.9859633569739952 and parameters: {'classifier': 'RandomForest', 'rf_max_depth': 17, 'rf_min_samples_split': 12, 'rf_n_estimators': 25}. Best is trial 13 with value: 0.9930555555555555.\n",
      "[I 2023-12-05 21:28:42,816] Trial 92 finished with value: 0.9861111111111112 and parameters: {'classifier': 'RandomForest', 'rf_max_depth': 20, 'rf_min_samples_split': 12, 'rf_n_estimators': 30}. Best is trial 13 with value: 0.9930555555555555.\n",
      "[I 2023-12-05 21:28:43,026] Trial 93 finished with value: 0.9859633569739952 and parameters: {'classifier': 'RandomForest', 'rf_max_depth': 39, 'rf_min_samples_split': 6, 'rf_n_estimators': 37}. Best is trial 13 with value: 0.9930555555555555.\n",
      "[I 2023-12-05 21:28:43,411] Trial 94 finished with value: 0.9859633569739952 and parameters: {'classifier': 'RandomForest', 'rf_max_depth': 14, 'rf_min_samples_split': 17, 'rf_n_estimators': 57}. Best is trial 13 with value: 0.9930555555555555.\n",
      "[I 2023-12-05 21:28:43,812] Trial 95 finished with value: 0.9930555555555555 and parameters: {'classifier': 'RandomForest', 'rf_max_depth': 37, 'rf_min_samples_split': 11, 'rf_n_estimators': 96}. Best is trial 13 with value: 0.9930555555555555.\n",
      "[I 2023-12-05 21:28:43,978] Trial 96 finished with value: 0.9859633569739952 and parameters: {'classifier': 'RandomForest', 'rf_max_depth': 45, 'rf_min_samples_split': 14, 'rf_n_estimators': 42}. Best is trial 13 with value: 0.9930555555555555.\n",
      "[I 2023-12-05 21:28:44,074] Trial 97 finished with value: 0.978871158392435 and parameters: {'classifier': 'RandomForest', 'rf_max_depth': 30, 'rf_min_samples_split': 16, 'rf_n_estimators': 14}. Best is trial 13 with value: 0.9930555555555555.\n",
      "[I 2023-12-05 21:28:44,265] Trial 98 finished with value: 0.978871158392435 and parameters: {'classifier': 'RandomForest', 'rf_max_depth': 23, 'rf_min_samples_split': 19, 'rf_n_estimators': 33}. Best is trial 13 with value: 0.9930555555555555.\n",
      "[I 2023-12-05 21:28:44,476] Trial 99 finished with value: 0.9790189125295509 and parameters: {'classifier': 'RandomForest', 'rf_max_depth': 17, 'rf_min_samples_split': 11, 'rf_n_estimators': 48}. Best is trial 13 with value: 0.9930555555555555.\n"
     ]
    },
    {
     "name": "stdout",
     "output_type": "stream",
     "text": [
      "FrozenTrial(number=13, state=1, values=[0.9930555555555555], datetime_start=datetime.datetime(2023, 12, 5, 21, 28, 33, 462869), datetime_complete=datetime.datetime(2023, 12, 5, 21, 28, 33, 590534), params={'classifier': 'RandomForest', 'rf_max_depth': 38, 'rf_min_samples_split': 12, 'rf_n_estimators': 55}, user_attrs={}, system_attrs={}, intermediate_values={}, distributions={'classifier': CategoricalDistribution(choices=('SVC', 'RandomForest')), 'rf_max_depth': IntDistribution(high=50, log=True, low=1, step=1), 'rf_min_samples_split': IntDistribution(high=30, log=True, low=2, step=1), 'rf_n_estimators': IntDistribution(high=200, log=True, low=1, step=1)}, trial_id=13, value=None)\n"
     ]
    }
   ],
   "source": [
    "if __name__ == \"__main__\":\n",
    "  #Utilize Optuna to maximize the score. In this case it is maximizing accuracy\n",
    "  study = optuna.create_study(direction=\"maximize\")\n",
    "  study.optimize(objective, n_trials=100)\n",
    "  print(study.best_trial)"
   ]
  },
  {
   "cell_type": "code",
   "execution_count": 18,
   "metadata": {},
   "outputs": [
    {
     "data": {
      "text/plain": [
       "{'classifier': 'RandomForest',\n",
       " 'rf_max_depth': 38,\n",
       " 'rf_min_samples_split': 12,\n",
       " 'rf_n_estimators': 55}"
      ]
     },
     "execution_count": 18,
     "metadata": {},
     "output_type": "execute_result"
    }
   ],
   "source": [
    "study.best_params"
   ]
  },
  {
   "cell_type": "code",
   "execution_count": 19,
   "metadata": {},
   "outputs": [],
   "source": [
    "tuned_model = RandomForestClassifier(max_depth=38, \n",
    "                                     min_samples_split=12,\n",
    "                                     n_estimators=55)"
   ]
  },
  {
   "cell_type": "code",
   "execution_count": 20,
   "metadata": {},
   "outputs": [],
   "source": [
    "history = tuned_model.fit(X_train, y_train)"
   ]
  },
  {
   "cell_type": "code",
   "execution_count": 21,
   "metadata": {},
   "outputs": [],
   "source": [
    "yhat = tuned_model.predict(X_test)"
   ]
  },
  {
   "cell_type": "code",
   "execution_count": 22,
   "metadata": {},
   "outputs": [
    {
     "data": {
      "text/plain": [
       "array([1, 1, 1, 1, 2, 1, 2, 0, 0, 2, 2, 2, 0, 1, 1, 0, 0, 2, 2, 2, 0, 1,\n",
       "       1, 2, 1, 2, 0, 0, 0, 1, 0, 2, 1, 1, 1, 1], dtype=int64)"
      ]
     },
     "execution_count": 22,
     "metadata": {},
     "output_type": "execute_result"
    }
   ],
   "source": [
    "yhat"
   ]
  },
  {
   "cell_type": "code",
   "execution_count": 23,
   "metadata": {},
   "outputs": [
    {
     "data": {
      "text/plain": [
       "array([1, 1, 1, 1, 2, 1, 2, 0, 0, 2, 2, 1, 0, 1, 1, 0, 0, 2, 2, 2, 0, 1,\n",
       "       1, 2, 1, 2, 0, 0, 0, 1, 0, 1, 1, 1, 1, 1], dtype=int64)"
      ]
     },
     "execution_count": 23,
     "metadata": {},
     "output_type": "execute_result"
    }
   ],
   "source": [
    "y_test"
   ]
  },
  {
   "cell_type": "code",
   "execution_count": 25,
   "metadata": {},
   "outputs": [
    {
     "name": "stdout",
     "output_type": "stream",
     "text": [
      "Accuracy: 0.9444444444444444\n"
     ]
    }
   ],
   "source": [
    "print(f\"Accuracy: {accuracy_score(y_test, yhat)}\")"
   ]
  }
 ],
 "metadata": {
  "kernelspec": {
   "display_name": "Python 3",
   "language": "python",
   "name": "python3"
  },
  "language_info": {
   "codemirror_mode": {
    "name": "ipython",
    "version": 3
   },
   "file_extension": ".py",
   "mimetype": "text/x-python",
   "name": "python",
   "nbconvert_exporter": "python",
   "pygments_lexer": "ipython3",
   "version": "3.11.5"
  }
 },
 "nbformat": 4,
 "nbformat_minor": 2
}
