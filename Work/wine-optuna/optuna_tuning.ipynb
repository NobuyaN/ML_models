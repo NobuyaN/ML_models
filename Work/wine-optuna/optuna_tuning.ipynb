{
 "cells": [
  {
   "cell_type": "code",
   "execution_count": 12,
   "metadata": {},
   "outputs": [],
   "source": [
    "import pandas as pd\n",
    "from xgboost import XGBClassifier\n",
    "from sklearn.model_selection import train_test_split, cross_val_score\n",
    "from sklearn.preprocessing import StandardScaler, LabelEncoder\n",
    "from sklearn.ensemble import RandomForestClassifier\n",
    "from sklearn.metrics import accuracy_score\n",
    "import optuna\n",
    "\n",
    "RANDOM_STATE = 1234"
   ]
  },
  {
   "cell_type": "code",
   "execution_count": 13,
   "metadata": {},
   "outputs": [],
   "source": [
    "columns = [\"class\", \"Alcohol\", \"Malicacid\", \"Ash\", \"Alcalinity_of_ash\", \"Magnesium\", \n",
    "           \"Total_phenols\", \"Flavanoids\", \"Nonflavanoid_phenols\", \"Proanthocyanins\", \n",
    "           \"Color_intensity\", \"Hue\", \"0D280_0D315_of_diluted_wines\", \"Proline\"]\n",
    "df = pd.read_csv(\"D:/Work/wine/wine/wine.data\", names=columns)"
   ]
  },
  {
   "cell_type": "code",
   "execution_count": 14,
   "metadata": {},
   "outputs": [
    {
     "data": {
      "text/plain": [
       "array([0, 0, 0, 0, 0, 0, 0, 0, 0, 0, 0, 0, 0, 0], dtype=int64)"
      ]
     },
     "execution_count": 14,
     "metadata": {},
     "output_type": "execute_result"
    }
   ],
   "source": [
    "df.isnull().sum().values"
   ]
  },
  {
   "cell_type": "code",
   "execution_count": 15,
   "metadata": {},
   "outputs": [],
   "source": [
    "numerical_cols = columns[1:]\n",
    "df[numerical_cols] = StandardScaler().fit_transform(df[numerical_cols])"
   ]
  },
  {
   "cell_type": "code",
   "execution_count": 16,
   "metadata": {},
   "outputs": [],
   "source": [
    "X = df.drop(['class'], axis=1)\n",
    "y = df['class']\n",
    "le = LabelEncoder()\n",
    "y = le.fit_transform(y)"
   ]
  },
  {
   "cell_type": "code",
   "execution_count": 17,
   "metadata": {},
   "outputs": [
    {
     "name": "stdout",
     "output_type": "stream",
     "text": [
      "X_train: (142, 13), y_train: (142,)\n",
      "X_test: (36, 13), y_test: (36,)\n"
     ]
    }
   ],
   "source": [
    "X_train, X_test, y_train, y_test = train_test_split(X, y, train_size=0.8, random_state=RANDOM_STATE)\n",
    "\n",
    "print(f\"X_train: {X_train.shape}, y_train: {y_train.shape}\")\n",
    "print(f\"X_test: {X_test.shape}, y_test: {y_test.shape}\")"
   ]
  },
  {
   "cell_type": "code",
   "execution_count": 18,
   "metadata": {},
   "outputs": [],
   "source": [
    "def objective(trial):\n",
    "  model_name = trial.suggest_categorical(\"classifier\", [\"XGB\", \"RandomForest\"])\n",
    "  if model_name == \"XGB\":\n",
    "    xgb_max_depth = trial.suggest_int(\"xgb_max_depth\", 1, 50, log=True)\n",
    "    xgb_learning_rate = trial.suggest_float(\"xgb_learning_rate\", 1e-5, 1, log=True)\n",
    "    xgb_n_estimators = trial.suggest_int(\"xgb_n_estimators\", 5, 200, log=True)\n",
    "    xgb_lambda = trial.suggest_int(\"xgb_lambda\", 1, 100, log=True)\n",
    "    xgb_gamma = trial.suggest_float(\"xgb_gamma\", 0.001, 1, log=True)\n",
    "    model = XGBClassifier(max_depth=xgb_max_depth,\n",
    "                              learning_rate=xgb_learning_rate,\n",
    "                              n_estimators=xgb_n_estimators, \n",
    "                              gamma=xgb_gamma,\n",
    "                              reg_lambda=xgb_lambda)\n",
    "  else:\n",
    "    rf_max_depth = trial.suggest_int(\"rf_max_depth\", 1, 50, log=True)\n",
    "    rf_min_samples_split = trial.suggest_int(\"rf_min_samples_split\", 2, 30, log=True)\n",
    "    rf_n_estimators = trial.suggest_int(\"rf_n_estimators\", 1, 200, log=True)\n",
    "    model = RandomForestClassifier(max_depth=rf_max_depth,\n",
    "                                      n_estimators=rf_n_estimators,\n",
    "                                      min_samples_split=rf_min_samples_split)\n",
    "\n",
    "  #Score is a array of accuracy for cross validation set (Kfold)\n",
    "  score = cross_val_score(model, X_train, y_train, n_jobs=10, cv=3)\n",
    "  #Take the mean of the score array for all of the cross validation\n",
    "  accuracy = score.mean() \n",
    "  \n",
    "  return accuracy"
   ]
  },
  {
   "cell_type": "code",
   "execution_count": 19,
   "metadata": {},
   "outputs": [
    {
     "name": "stderr",
     "output_type": "stream",
     "text": [
      "[I 2023-12-07 09:59:06,210] A new study created in memory with name: no-name-c4a20711-13ca-46a2-9aca-21a2a240acef\n",
      "[I 2023-12-07 09:59:08,180] Trial 0 finished with value: 0.9086879432624113 and parameters: {'classifier': 'XGB', 'xgb_max_depth': 3, 'xgb_learning_rate': 1.4405642989436467e-05, 'xgb_n_estimators': 8, 'xgb_lambda': 1, 'xgb_gamma': 0.08642053547526074}. Best is trial 0 with value: 0.9086879432624113.\n",
      "[I 2023-12-07 09:59:09,199] Trial 1 finished with value: 0.91548463356974 and parameters: {'classifier': 'XGB', 'xgb_max_depth': 30, 'xgb_learning_rate': 0.014598580373419587, 'xgb_n_estimators': 23, 'xgb_lambda': 88, 'xgb_gamma': 0.6728752650209121}. Best is trial 1 with value: 0.91548463356974.\n",
      "[I 2023-12-07 09:59:10,291] Trial 2 finished with value: 0.6341607565011821 and parameters: {'classifier': 'RandomForest', 'rf_max_depth': 1, 'rf_min_samples_split': 2, 'rf_n_estimators': 1}. Best is trial 1 with value: 0.91548463356974.\n",
      "[I 2023-12-07 09:59:11,276] Trial 3 finished with value: 0.922872340425532 and parameters: {'classifier': 'XGB', 'xgb_max_depth': 11, 'xgb_learning_rate': 2.2222387043559144e-05, 'xgb_n_estimators': 160, 'xgb_lambda': 69, 'xgb_gamma': 0.03197874621103329}. Best is trial 3 with value: 0.922872340425532.\n",
      "[I 2023-12-07 09:59:11,459] Trial 4 finished with value: 0.9930555555555555 and parameters: {'classifier': 'RandomForest', 'rf_max_depth': 9, 'rf_min_samples_split': 2, 'rf_n_estimators': 29}. Best is trial 4 with value: 0.9930555555555555.\n",
      "[I 2023-12-07 09:59:11,552] Trial 5 finished with value: 0.9507978723404257 and parameters: {'classifier': 'XGB', 'xgb_max_depth': 11, 'xgb_learning_rate': 0.0834574700010585, 'xgb_n_estimators': 29, 'xgb_lambda': 5, 'xgb_gamma': 0.003426002275378169}. Best is trial 4 with value: 0.9930555555555555.\n",
      "[I 2023-12-07 09:59:11,624] Trial 6 finished with value: 0.9157801418439716 and parameters: {'classifier': 'XGB', 'xgb_max_depth': 10, 'xgb_learning_rate': 0.003675936515725138, 'xgb_n_estimators': 12, 'xgb_lambda': 3, 'xgb_gamma': 0.0019239727133186675}. Best is trial 4 with value: 0.9930555555555555.\n",
      "[I 2023-12-07 09:59:11,739] Trial 7 finished with value: 0.9162234042553191 and parameters: {'classifier': 'RandomForest', 'rf_max_depth': 39, 'rf_min_samples_split': 10, 'rf_n_estimators': 2}. Best is trial 4 with value: 0.9930555555555555.\n",
      "[I 2023-12-07 09:59:11,856] Trial 8 finished with value: 0.8945035460992908 and parameters: {'classifier': 'RandomForest', 'rf_max_depth': 6, 'rf_min_samples_split': 9, 'rf_n_estimators': 1}. Best is trial 4 with value: 0.9930555555555555.\n",
      "[I 2023-12-07 09:59:11,886] Trial 9 finished with value: 0.9507978723404257 and parameters: {'classifier': 'XGB', 'xgb_max_depth': 1, 'xgb_learning_rate': 0.030475317579495165, 'xgb_n_estimators': 28, 'xgb_lambda': 3, 'xgb_gamma': 0.007026563326178254}. Best is trial 4 with value: 0.9930555555555555.\n",
      "[I 2023-12-07 09:59:12,049] Trial 10 finished with value: 0.9859633569739952 and parameters: {'classifier': 'RandomForest', 'rf_max_depth': 10, 'rf_min_samples_split': 2, 'rf_n_estimators': 76}. Best is trial 4 with value: 0.9930555555555555.\n",
      "[I 2023-12-07 09:59:12,176] Trial 11 finished with value: 0.9859633569739952 and parameters: {'classifier': 'RandomForest', 'rf_max_depth': 12, 'rf_min_samples_split': 2, 'rf_n_estimators': 72}. Best is trial 4 with value: 0.9930555555555555.\n",
      "[I 2023-12-07 09:59:12,369] Trial 12 finished with value: 0.9859633569739952 and parameters: {'classifier': 'RandomForest', 'rf_max_depth': 12, 'rf_min_samples_split': 3, 'rf_n_estimators': 52}. Best is trial 4 with value: 0.9930555555555555.\n",
      "[I 2023-12-07 09:59:12,528] Trial 13 finished with value: 0.9859633569739952 and parameters: {'classifier': 'RandomForest', 'rf_max_depth': 3, 'rf_min_samples_split': 4, 'rf_n_estimators': 21}. Best is trial 4 with value: 0.9930555555555555.\n",
      "[I 2023-12-07 09:59:12,823] Trial 14 finished with value: 0.9859633569739952 and parameters: {'classifier': 'RandomForest', 'rf_max_depth': 26, 'rf_min_samples_split': 21, 'rf_n_estimators': 186}. Best is trial 4 with value: 0.9930555555555555.\n",
      "[I 2023-12-07 09:59:12,873] Trial 15 finished with value: 0.9859633569739952 and parameters: {'classifier': 'RandomForest', 'rf_max_depth': 5, 'rf_min_samples_split': 2, 'rf_n_estimators': 14}. Best is trial 4 with value: 0.9930555555555555.\n",
      "[I 2023-12-07 09:59:12,914] Trial 16 finished with value: 0.9930555555555555 and parameters: {'classifier': 'RandomForest', 'rf_max_depth': 16, 'rf_min_samples_split': 4, 'rf_n_estimators': 5}. Best is trial 4 with value: 0.9930555555555555.\n",
      "[I 2023-12-07 09:59:12,954] Trial 17 finished with value: 0.9507978723404257 and parameters: {'classifier': 'RandomForest', 'rf_max_depth': 21, 'rf_min_samples_split': 4, 'rf_n_estimators': 5}. Best is trial 4 with value: 0.9930555555555555.\n",
      "[I 2023-12-07 09:59:12,998] Trial 18 finished with value: 0.9578900709219859 and parameters: {'classifier': 'RandomForest', 'rf_max_depth': 47, 'rf_min_samples_split': 6, 'rf_n_estimators': 6}. Best is trial 4 with value: 0.9930555555555555.\n",
      "[I 2023-12-07 09:59:13,038] Trial 19 finished with value: 0.8942080378250591 and parameters: {'classifier': 'RandomForest', 'rf_max_depth': 19, 'rf_min_samples_split': 3, 'rf_n_estimators': 4}. Best is trial 4 with value: 0.9930555555555555.\n",
      "[I 2023-12-07 09:59:13,103] Trial 20 finished with value: 0.9861111111111112 and parameters: {'classifier': 'RandomForest', 'rf_max_depth': 3, 'rf_min_samples_split': 5, 'rf_n_estimators': 20}. Best is trial 4 with value: 0.9930555555555555.\n",
      "[I 2023-12-07 09:59:13,165] Trial 21 finished with value: 0.9719267139479907 and parameters: {'classifier': 'RandomForest', 'rf_max_depth': 2, 'rf_min_samples_split': 5, 'rf_n_estimators': 18}. Best is trial 4 with value: 0.9930555555555555.\n",
      "[I 2023-12-07 09:59:13,216] Trial 22 finished with value: 0.9720744680851063 and parameters: {'classifier': 'RandomForest', 'rf_max_depth': 5, 'rf_min_samples_split': 3, 'rf_n_estimators': 9}. Best is trial 4 with value: 0.9930555555555555.\n",
      "[I 2023-12-07 09:59:13,301] Trial 23 finished with value: 0.9859633569739952 and parameters: {'classifier': 'RandomForest', 'rf_max_depth': 9, 'rf_min_samples_split': 7, 'rf_n_estimators': 33}. Best is trial 4 with value: 0.9930555555555555.\n",
      "[I 2023-12-07 09:59:13,352] Trial 24 finished with value: 0.9859633569739952 and parameters: {'classifier': 'RandomForest', 'rf_max_depth': 3, 'rf_min_samples_split': 4, 'rf_n_estimators': 11}. Best is trial 4 with value: 0.9930555555555555.\n",
      "[I 2023-12-07 09:59:13,446] Trial 25 finished with value: 0.9859633569739952 and parameters: {'classifier': 'RandomForest', 'rf_max_depth': 7, 'rf_min_samples_split': 3, 'rf_n_estimators': 34}. Best is trial 4 with value: 0.9930555555555555.\n",
      "[I 2023-12-07 09:59:13,486] Trial 26 finished with value: 0.9225768321513002 and parameters: {'classifier': 'RandomForest', 'rf_max_depth': 14, 'rf_min_samples_split': 5, 'rf_n_estimators': 3}. Best is trial 4 with value: 0.9930555555555555.\n",
      "[I 2023-12-07 09:59:13,541] Trial 27 finished with value: 0.9580378250591016 and parameters: {'classifier': 'RandomForest', 'rf_max_depth': 17, 'rf_min_samples_split': 8, 'rf_n_estimators': 8}. Best is trial 4 with value: 0.9930555555555555.\n",
      "[I 2023-12-07 09:59:13,606] Trial 28 finished with value: 0.9859633569739952 and parameters: {'classifier': 'RandomForest', 'rf_max_depth': 8, 'rf_min_samples_split': 6, 'rf_n_estimators': 14}. Best is trial 4 with value: 0.9930555555555555.\n",
      "[I 2023-12-07 09:59:13,698] Trial 29 finished with value: 0.9648345153664303 and parameters: {'classifier': 'XGB', 'xgb_max_depth': 1, 'xgb_learning_rate': 0.7858814873905778, 'xgb_n_estimators': 113, 'xgb_lambda': 18, 'xgb_gamma': 0.3675190741572321}. Best is trial 4 with value: 0.9930555555555555.\n",
      "[I 2023-12-07 09:59:13,748] Trial 30 finished with value: 0.9859633569739952 and parameters: {'classifier': 'RandomForest', 'rf_max_depth': 4, 'rf_min_samples_split': 11, 'rf_n_estimators': 8}. Best is trial 4 with value: 0.9930555555555555.\n",
      "[I 2023-12-07 09:59:13,823] Trial 31 finished with value: 0.9859633569739952 and parameters: {'classifier': 'RandomForest', 'rf_max_depth': 10, 'rf_min_samples_split': 2, 'rf_n_estimators': 26}. Best is trial 4 with value: 0.9930555555555555.\n",
      "[I 2023-12-07 09:59:13,953] Trial 32 finished with value: 0.9859633569739952 and parameters: {'classifier': 'RandomForest', 'rf_max_depth': 9, 'rf_min_samples_split': 2, 'rf_n_estimators': 62}. Best is trial 4 with value: 0.9930555555555555.\n",
      "[I 2023-12-07 09:59:14,184] Trial 33 finished with value: 0.9859633569739952 and parameters: {'classifier': 'RandomForest', 'rf_max_depth': 14, 'rf_min_samples_split': 3, 'rf_n_estimators': 102}. Best is trial 4 with value: 0.9930555555555555.\n",
      "[I 2023-12-07 09:59:14,256] Trial 34 finished with value: 0.9086879432624113 and parameters: {'classifier': 'XGB', 'xgb_max_depth': 43, 'xgb_learning_rate': 0.00033619927895429225, 'xgb_n_estimators': 5, 'xgb_lambda': 1, 'xgb_gamma': 0.0010251868028993082}. Best is trial 4 with value: 0.9930555555555555.\n",
      "[I 2023-12-07 09:59:14,382] Trial 35 finished with value: 0.9859633569739952 and parameters: {'classifier': 'RandomForest', 'rf_max_depth': 29, 'rf_min_samples_split': 2, 'rf_n_estimators': 42}. Best is trial 4 with value: 0.9930555555555555.\n",
      "[I 2023-12-07 09:59:14,497] Trial 36 finished with value: 0.922872340425532 and parameters: {'classifier': 'XGB', 'xgb_max_depth': 3, 'xgb_learning_rate': 0.0005330077324317332, 'xgb_n_estimators': 94, 'xgb_lambda': 18, 'xgb_gamma': 0.009313728720875701}. Best is trial 4 with value: 0.9930555555555555.\n",
      "[I 2023-12-07 09:59:14,592] Trial 37 finished with value: 0.9930555555555555 and parameters: {'classifier': 'RandomForest', 'rf_max_depth': 7, 'rf_min_samples_split': 4, 'rf_n_estimators': 23}. Best is trial 4 with value: 0.9930555555555555.\n",
      "[I 2023-12-07 09:59:14,669] Trial 38 finished with value: 0.9717789598108747 and parameters: {'classifier': 'RandomForest', 'rf_max_depth': 6, 'rf_min_samples_split': 5, 'rf_n_estimators': 22}. Best is trial 4 with value: 0.9930555555555555.\n",
      "[I 2023-12-07 09:59:14,759] Trial 39 finished with value: 0.9717789598108747 and parameters: {'classifier': 'XGB', 'xgb_max_depth': 1, 'xgb_learning_rate': 0.7996574901381246, 'xgb_n_estimators': 62, 'xgb_lambda': 1, 'xgb_gamma': 0.18174456537161746}. Best is trial 4 with value: 0.9930555555555555.\n",
      "[I 2023-12-07 09:59:14,836] Trial 40 finished with value: 0.9299645390070922 and parameters: {'classifier': 'RandomForest', 'rf_max_depth': 1, 'rf_min_samples_split': 4, 'rf_n_estimators': 15}. Best is trial 4 with value: 0.9930555555555555.\n",
      "[I 2023-12-07 09:59:14,940] Trial 41 finished with value: 0.9930555555555555 and parameters: {'classifier': 'RandomForest', 'rf_max_depth': 10, 'rf_min_samples_split': 3, 'rf_n_estimators': 28}. Best is trial 4 with value: 0.9930555555555555.\n",
      "[I 2023-12-07 09:59:15,030] Trial 42 finished with value: 0.9930555555555555 and parameters: {'classifier': 'RandomForest', 'rf_max_depth': 7, 'rf_min_samples_split': 3, 'rf_n_estimators': 26}. Best is trial 4 with value: 0.9930555555555555.\n",
      "[I 2023-12-07 09:59:15,159] Trial 43 finished with value: 0.9859633569739952 and parameters: {'classifier': 'RandomForest', 'rf_max_depth': 8, 'rf_min_samples_split': 3, 'rf_n_estimators': 28}. Best is trial 4 with value: 0.9930555555555555.\n",
      "[I 2023-12-07 09:59:15,268] Trial 44 finished with value: 0.9859633569739952 and parameters: {'classifier': 'RandomForest', 'rf_max_depth': 15, 'rf_min_samples_split': 3, 'rf_n_estimators': 42}. Best is trial 4 with value: 0.9930555555555555.\n",
      "[I 2023-12-07 09:59:15,353] Trial 45 finished with value: 0.978871158392435 and parameters: {'classifier': 'RandomForest', 'rf_max_depth': 11, 'rf_min_samples_split': 4, 'rf_n_estimators': 28}. Best is trial 4 with value: 0.9930555555555555.\n",
      "[I 2023-12-07 09:59:15,422] Trial 46 finished with value: 0.9719267139479905 and parameters: {'classifier': 'RandomForest', 'rf_max_depth': 8, 'rf_min_samples_split': 2, 'rf_n_estimators': 12}. Best is trial 4 with value: 0.9930555555555555.\n",
      "[I 2023-12-07 09:59:15,528] Trial 47 finished with value: 0.922872340425532 and parameters: {'classifier': 'XGB', 'xgb_max_depth': 24, 'xgb_learning_rate': 0.00016153288354589846, 'xgb_n_estimators': 66, 'xgb_lambda': 15, 'xgb_gamma': 0.8335593303721025}. Best is trial 4 with value: 0.9930555555555555.\n",
      "[I 2023-12-07 09:59:15,607] Trial 48 finished with value: 0.9861111111111112 and parameters: {'classifier': 'RandomForest', 'rf_max_depth': 11, 'rf_min_samples_split': 3, 'rf_n_estimators': 18}. Best is trial 4 with value: 0.9930555555555555.\n",
      "[I 2023-12-07 09:59:15,717] Trial 49 finished with value: 0.9930555555555555 and parameters: {'classifier': 'RandomForest', 'rf_max_depth': 6, 'rf_min_samples_split': 4, 'rf_n_estimators': 43}. Best is trial 4 with value: 0.9930555555555555.\n",
      "[I 2023-12-07 09:59:15,751] Trial 50 finished with value: 0.7894503546099291 and parameters: {'classifier': 'RandomForest', 'rf_max_depth': 13, 'rf_min_samples_split': 10, 'rf_n_estimators': 1}. Best is trial 4 with value: 0.9930555555555555.\n",
      "[I 2023-12-07 09:59:15,864] Trial 51 finished with value: 0.9930555555555555 and parameters: {'classifier': 'RandomForest', 'rf_max_depth': 6, 'rf_min_samples_split': 4, 'rf_n_estimators': 45}. Best is trial 4 with value: 0.9930555555555555.\n",
      "[I 2023-12-07 09:59:15,961] Trial 52 finished with value: 0.9790189125295509 and parameters: {'classifier': 'RandomForest', 'rf_max_depth': 7, 'rf_min_samples_split': 4, 'rf_n_estimators': 34}. Best is trial 4 with value: 0.9930555555555555.\n",
      "[I 2023-12-07 09:59:16,135] Trial 53 finished with value: 0.9930555555555555 and parameters: {'classifier': 'RandomForest', 'rf_max_depth': 11, 'rf_min_samples_split': 3, 'rf_n_estimators': 52}. Best is trial 4 with value: 0.9930555555555555.\n",
      "[I 2023-12-07 09:59:16,215] Trial 54 finished with value: 0.9790189125295509 and parameters: {'classifier': 'RandomForest', 'rf_max_depth': 6, 'rf_min_samples_split': 2, 'rf_n_estimators': 24}. Best is trial 4 with value: 0.9930555555555555.\n",
      "[I 2023-12-07 09:59:16,462] Trial 55 finished with value: 0.9930555555555555 and parameters: {'classifier': 'RandomForest', 'rf_max_depth': 17, 'rf_min_samples_split': 4, 'rf_n_estimators': 82}. Best is trial 4 with value: 0.9930555555555555.\n",
      "[I 2023-12-07 09:59:16,539] Trial 56 finished with value: 0.9717789598108747 and parameters: {'classifier': 'RandomForest', 'rf_max_depth': 23, 'rf_min_samples_split': 25, 'rf_n_estimators': 15}. Best is trial 4 with value: 0.9930555555555555.\n",
      "[I 2023-12-07 09:59:16,644] Trial 57 finished with value: 0.978871158392435 and parameters: {'classifier': 'RandomForest', 'rf_max_depth': 10, 'rf_min_samples_split': 5, 'rf_n_estimators': 20}. Best is trial 4 with value: 0.9930555555555555.\n",
      "[I 2023-12-07 09:59:16,740] Trial 58 finished with value: 0.9790189125295509 and parameters: {'classifier': 'RandomForest', 'rf_max_depth': 14, 'rf_min_samples_split': 6, 'rf_n_estimators': 34}. Best is trial 4 with value: 0.9930555555555555.\n",
      "[I 2023-12-07 09:59:16,909] Trial 59 finished with value: 0.9790189125295509 and parameters: {'classifier': 'RandomForest', 'rf_max_depth': 5, 'rf_min_samples_split': 17, 'rf_n_estimators': 59}. Best is trial 4 with value: 0.9930555555555555.\n",
      "[I 2023-12-07 09:59:17,026] Trial 60 finished with value: 0.9649822695035462 and parameters: {'classifier': 'RandomForest', 'rf_max_depth': 4, 'rf_min_samples_split': 30, 'rf_n_estimators': 25}. Best is trial 4 with value: 0.9930555555555555.\n",
      "[I 2023-12-07 09:59:17,157] Trial 61 finished with value: 0.9859633569739952 and parameters: {'classifier': 'RandomForest', 'rf_max_depth': 7, 'rf_min_samples_split': 4, 'rf_n_estimators': 44}. Best is trial 4 with value: 0.9930555555555555.\n",
      "[I 2023-12-07 09:59:17,268] Trial 62 finished with value: 0.9861111111111112 and parameters: {'classifier': 'RandomForest', 'rf_max_depth': 9, 'rf_min_samples_split': 4, 'rf_n_estimators': 44}. Best is trial 4 with value: 0.9930555555555555.\n",
      "[I 2023-12-07 09:59:17,343] Trial 63 finished with value: 0.9930555555555555 and parameters: {'classifier': 'RandomForest', 'rf_max_depth': 6, 'rf_min_samples_split': 3, 'rf_n_estimators': 28}. Best is trial 4 with value: 0.9930555555555555.\n",
      "[I 2023-12-07 09:59:17,398] Trial 64 finished with value: 0.9790189125295509 and parameters: {'classifier': 'RandomForest', 'rf_max_depth': 11, 'rf_min_samples_split': 5, 'rf_n_estimators': 16}. Best is trial 4 with value: 0.9930555555555555.\n",
      "[I 2023-12-07 09:59:17,460] Trial 65 finished with value: 0.9861111111111112 and parameters: {'classifier': 'RandomForest', 'rf_max_depth': 7, 'rf_min_samples_split': 4, 'rf_n_estimators': 11}. Best is trial 4 with value: 0.9930555555555555.\n",
      "[I 2023-12-07 09:59:17,534] Trial 66 finished with value: 0.9717789598108747 and parameters: {'classifier': 'RandomForest', 'rf_max_depth': 12, 'rf_min_samples_split': 7, 'rf_n_estimators': 20}. Best is trial 4 with value: 0.9930555555555555.\n",
      "[I 2023-12-07 09:59:17,595] Trial 67 finished with value: 0.922872340425532 and parameters: {'classifier': 'XGB', 'xgb_max_depth': 2, 'xgb_learning_rate': 0.0019674765433479596, 'xgb_n_estimators': 15, 'xgb_lambda': 31, 'xgb_gamma': 0.03383011284017891}. Best is trial 4 with value: 0.9930555555555555.\n",
      "[I 2023-12-07 09:59:17,691] Trial 68 finished with value: 0.9930555555555555 and parameters: {'classifier': 'RandomForest', 'rf_max_depth': 9, 'rf_min_samples_split': 5, 'rf_n_estimators': 34}. Best is trial 4 with value: 0.9930555555555555.\n",
      "[I 2023-12-07 09:59:17,852] Trial 69 finished with value: 0.9859633569739952 and parameters: {'classifier': 'RandomForest', 'rf_max_depth': 5, 'rf_min_samples_split': 3, 'rf_n_estimators': 77}. Best is trial 4 with value: 0.9930555555555555.\n",
      "[I 2023-12-07 09:59:17,920] Trial 70 finished with value: 0.9790189125295509 and parameters: {'classifier': 'RandomForest', 'rf_max_depth': 4, 'rf_min_samples_split': 6, 'rf_n_estimators': 23}. Best is trial 4 with value: 0.9930555555555555.\n",
      "[I 2023-12-07 09:59:18,042] Trial 71 finished with value: 0.9930555555555555 and parameters: {'classifier': 'RandomForest', 'rf_max_depth': 11, 'rf_min_samples_split': 3, 'rf_n_estimators': 53}. Best is trial 4 with value: 0.9930555555555555.\n",
      "[I 2023-12-07 09:59:18,172] Trial 72 finished with value: 0.9859633569739952 and parameters: {'classifier': 'RandomForest', 'rf_max_depth': 16, 'rf_min_samples_split': 3, 'rf_n_estimators': 52}. Best is trial 4 with value: 0.9930555555555555.\n",
      "[I 2023-12-07 09:59:18,273] Trial 73 finished with value: 0.9859633569739952 and parameters: {'classifier': 'RandomForest', 'rf_max_depth': 19, 'rf_min_samples_split': 4, 'rf_n_estimators': 39}. Best is trial 4 with value: 0.9930555555555555.\n",
      "[I 2023-12-07 09:59:18,415] Trial 74 finished with value: 0.9930555555555555 and parameters: {'classifier': 'RandomForest', 'rf_max_depth': 13, 'rf_min_samples_split': 2, 'rf_n_estimators': 61}. Best is trial 4 with value: 0.9930555555555555.\n",
      "[I 2023-12-07 09:59:18,511] Trial 75 finished with value: 0.9859633569739952 and parameters: {'classifier': 'RandomForest', 'rf_max_depth': 8, 'rf_min_samples_split': 3, 'rf_n_estimators': 29}. Best is trial 4 with value: 0.9930555555555555.\n",
      "[I 2023-12-07 09:59:18,630] Trial 76 finished with value: 0.9930555555555555 and parameters: {'classifier': 'RandomForest', 'rf_max_depth': 10, 'rf_min_samples_split': 5, 'rf_n_estimators': 50}. Best is trial 4 with value: 0.9930555555555555.\n",
      "[I 2023-12-07 09:59:18,813] Trial 77 finished with value: 0.9088356973995272 and parameters: {'classifier': 'XGB', 'xgb_max_depth': 5, 'xgb_learning_rate': 7.23478171653696e-05, 'xgb_n_estimators': 182, 'xgb_lambda': 8, 'xgb_gamma': 0.09318156660445638}. Best is trial 4 with value: 0.9930555555555555.\n",
      "[I 2023-12-07 09:59:18,903] Trial 78 finished with value: 0.9930555555555555 and parameters: {'classifier': 'RandomForest', 'rf_max_depth': 6, 'rf_min_samples_split': 3, 'rf_n_estimators': 35}. Best is trial 4 with value: 0.9930555555555555.\n",
      "[I 2023-12-07 09:59:19,001] Trial 79 finished with value: 0.9859633569739952 and parameters: {'classifier': 'RandomForest', 'rf_max_depth': 12, 'rf_min_samples_split': 4, 'rf_n_estimators': 40}. Best is trial 4 with value: 0.9930555555555555.\n",
      "[I 2023-12-07 09:59:19,044] Trial 80 finished with value: 0.9648345153664303 and parameters: {'classifier': 'RandomForest', 'rf_max_depth': 7, 'rf_min_samples_split': 2, 'rf_n_estimators': 6}. Best is trial 4 with value: 0.9930555555555555.\n",
      "[I 2023-12-07 09:59:19,195] Trial 81 finished with value: 0.9930555555555555 and parameters: {'classifier': 'RandomForest', 'rf_max_depth': 9, 'rf_min_samples_split': 4, 'rf_n_estimators': 78}. Best is trial 4 with value: 0.9930555555555555.\n",
      "[I 2023-12-07 09:59:19,382] Trial 82 finished with value: 0.9859633569739952 and parameters: {'classifier': 'RandomForest', 'rf_max_depth': 17, 'rf_min_samples_split': 4, 'rf_n_estimators': 86}. Best is trial 4 with value: 0.9930555555555555.\n",
      "[I 2023-12-07 09:59:19,608] Trial 83 finished with value: 0.9859633569739952 and parameters: {'classifier': 'RandomForest', 'rf_max_depth': 15, 'rf_min_samples_split': 8, 'rf_n_estimators': 116}. Best is trial 4 with value: 0.9930555555555555.\n",
      "[I 2023-12-07 09:59:19,749] Trial 84 finished with value: 0.9859633569739952 and parameters: {'classifier': 'RandomForest', 'rf_max_depth': 19, 'rf_min_samples_split': 3, 'rf_n_estimators': 66}. Best is trial 4 with value: 0.9930555555555555.\n",
      "[I 2023-12-07 09:59:19,829] Trial 85 finished with value: 0.9859633569739952 and parameters: {'classifier': 'RandomForest', 'rf_max_depth': 13, 'rf_min_samples_split': 5, 'rf_n_estimators': 30}. Best is trial 4 with value: 0.9930555555555555.\n",
      "[I 2023-12-07 09:59:19,937] Trial 86 finished with value: 0.978871158392435 and parameters: {'classifier': 'RandomForest', 'rf_max_depth': 25, 'rf_min_samples_split': 4, 'rf_n_estimators': 47}. Best is trial 4 with value: 0.9930555555555555.\n",
      "[I 2023-12-07 09:59:20,046] Trial 87 finished with value: 0.9930555555555555 and parameters: {'classifier': 'RandomForest', 'rf_max_depth': 17, 'rf_min_samples_split': 6, 'rf_n_estimators': 53}. Best is trial 4 with value: 0.9930555555555555.\n",
      "[I 2023-12-07 09:59:20,109] Trial 88 finished with value: 0.9859633569739952 and parameters: {'classifier': 'RandomForest', 'rf_max_depth': 8, 'rf_min_samples_split': 3, 'rf_n_estimators': 22}. Best is trial 4 with value: 0.9930555555555555.\n",
      "[I 2023-12-07 09:59:20,194] Trial 89 finished with value: 0.9157801418439716 and parameters: {'classifier': 'XGB', 'xgb_max_depth': 17, 'xgb_learning_rate': 6.198355997780212e-05, 'xgb_n_estimators': 46, 'xgb_lambda': 2, 'xgb_gamma': 0.010687966328570246}. Best is trial 4 with value: 0.9930555555555555.\n",
      "[I 2023-12-07 09:59:20,291] Trial 90 finished with value: 0.9930555555555555 and parameters: {'classifier': 'RandomForest', 'rf_max_depth': 10, 'rf_min_samples_split': 4, 'rf_n_estimators': 38}. Best is trial 4 with value: 0.9930555555555555.\n",
      "[I 2023-12-07 09:59:20,365] Trial 91 finished with value: 0.9930555555555555 and parameters: {'classifier': 'RandomForest', 'rf_max_depth': 6, 'rf_min_samples_split': 3, 'rf_n_estimators': 28}. Best is trial 4 with value: 0.9930555555555555.\n",
      "[I 2023-12-07 09:59:20,457] Trial 92 finished with value: 0.9859633569739952 and parameters: {'classifier': 'RandomForest', 'rf_max_depth': 6, 'rf_min_samples_split': 3, 'rf_n_estimators': 32}. Best is trial 4 with value: 0.9930555555555555.\n",
      "[I 2023-12-07 09:59:20,530] Trial 93 finished with value: 0.9930555555555555 and parameters: {'classifier': 'RandomForest', 'rf_max_depth': 5, 'rf_min_samples_split': 2, 'rf_n_estimators': 26}. Best is trial 4 with value: 0.9930555555555555.\n",
      "[I 2023-12-07 09:59:20,630] Trial 94 finished with value: 0.978871158392435 and parameters: {'classifier': 'RandomForest', 'rf_max_depth': 8, 'rf_min_samples_split': 3, 'rf_n_estimators': 39}. Best is trial 4 with value: 0.9930555555555555.\n",
      "[I 2023-12-07 09:59:20,704] Trial 95 finished with value: 0.978871158392435 and parameters: {'classifier': 'RandomForest', 'rf_max_depth': 21, 'rf_min_samples_split': 4, 'rf_n_estimators': 18}. Best is trial 4 with value: 0.9930555555555555.\n",
      "[I 2023-12-07 09:59:20,805] Trial 96 finished with value: 0.9930555555555555 and parameters: {'classifier': 'RandomForest', 'rf_max_depth': 7, 'rf_min_samples_split': 12, 'rf_n_estimators': 30}. Best is trial 4 with value: 0.9930555555555555.\n",
      "[I 2023-12-07 09:59:20,881] Trial 97 finished with value: 0.978871158392435 and parameters: {'classifier': 'RandomForest', 'rf_max_depth': 30, 'rf_min_samples_split': 5, 'rf_n_estimators': 24}. Best is trial 4 with value: 0.9930555555555555.\n",
      "[I 2023-12-07 09:59:20,943] Trial 98 finished with value: 0.9719267139479907 and parameters: {'classifier': 'RandomForest', 'rf_max_depth': 9, 'rf_min_samples_split': 5, 'rf_n_estimators': 13}. Best is trial 4 with value: 0.9930555555555555.\n",
      "[I 2023-12-07 09:59:21,007] Trial 99 finished with value: 1.0 and parameters: {'classifier': 'RandomForest', 'rf_max_depth': 11, 'rf_min_samples_split': 4, 'rf_n_estimators': 17}. Best is trial 99 with value: 1.0.\n"
     ]
    }
   ],
   "source": [
    "if __name__ == \"__main__\":\n",
    "  #Utilize Optuna to maximize the score. In this case it is maximizing accuracy\n",
    "  study = optuna.create_study(direction=\"maximize\") #direction is defaulted to minimize\n",
    "  study.optimize(objective, n_trials=100) #Pass in a callable function \"objective\" "
   ]
  },
  {
   "cell_type": "code",
   "execution_count": 20,
   "metadata": {},
   "outputs": [
    {
     "data": {
      "text/plain": [
       "{'classifier': 'RandomForest',\n",
       " 'rf_max_depth': 11,\n",
       " 'rf_min_samples_split': 4,\n",
       " 'rf_n_estimators': 17}"
      ]
     },
     "execution_count": 20,
     "metadata": {},
     "output_type": "execute_result"
    }
   ],
   "source": [
    "study.best_params"
   ]
  },
  {
   "cell_type": "code",
   "execution_count": 21,
   "metadata": {},
   "outputs": [],
   "source": [
    "tuned_model = RandomForestClassifier(max_depth=50, \n",
    "                                     min_samples_split=16,\n",
    "                                     n_estimators=126)"
   ]
  },
  {
   "cell_type": "code",
   "execution_count": 22,
   "metadata": {},
   "outputs": [],
   "source": [
    "history = tuned_model.fit(X_train, y_train)"
   ]
  },
  {
   "cell_type": "code",
   "execution_count": 23,
   "metadata": {},
   "outputs": [],
   "source": [
    "yhat = tuned_model.predict(X_test)"
   ]
  },
  {
   "cell_type": "code",
   "execution_count": 24,
   "metadata": {},
   "outputs": [
    {
     "data": {
      "text/plain": [
       "array([1, 1, 1, 1, 2, 1, 2, 0, 0, 2, 2, 2, 0, 1, 1, 0, 0, 2, 2, 2, 0, 1,\n",
       "       1, 2, 1, 2, 0, 0, 0, 1, 0, 2, 1, 1, 1, 1], dtype=int64)"
      ]
     },
     "execution_count": 24,
     "metadata": {},
     "output_type": "execute_result"
    }
   ],
   "source": [
    "yhat"
   ]
  },
  {
   "cell_type": "code",
   "execution_count": 25,
   "metadata": {},
   "outputs": [
    {
     "data": {
      "text/plain": [
       "array([1, 1, 1, 1, 2, 1, 2, 0, 0, 2, 2, 1, 0, 1, 1, 0, 0, 2, 2, 2, 0, 1,\n",
       "       1, 2, 1, 2, 0, 0, 0, 1, 0, 1, 1, 1, 1, 1], dtype=int64)"
      ]
     },
     "execution_count": 25,
     "metadata": {},
     "output_type": "execute_result"
    }
   ],
   "source": [
    "y_test"
   ]
  },
  {
   "cell_type": "code",
   "execution_count": 26,
   "metadata": {},
   "outputs": [
    {
     "name": "stdout",
     "output_type": "stream",
     "text": [
      "Accuracy: 0.9444444444444444\n"
     ]
    }
   ],
   "source": [
    "print(f\"Accuracy: {accuracy_score(y_test, yhat)}\")"
   ]
  }
 ],
 "metadata": {
  "kernelspec": {
   "display_name": "Python 3",
   "language": "python",
   "name": "python3"
  },
  "language_info": {
   "codemirror_mode": {
    "name": "ipython",
    "version": 3
   },
   "file_extension": ".py",
   "mimetype": "text/x-python",
   "name": "python",
   "nbconvert_exporter": "python",
   "pygments_lexer": "ipython3",
   "version": "3.11.5"
  }
 },
 "nbformat": 4,
 "nbformat_minor": 2
}
